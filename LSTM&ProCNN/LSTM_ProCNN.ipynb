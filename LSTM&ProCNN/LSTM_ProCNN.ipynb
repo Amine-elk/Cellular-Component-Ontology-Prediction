{
  "nbformat": 4,
  "nbformat_minor": 0,
  "metadata": {
    "colab": {
      "provenance": []
    },
    "kernelspec": {
      "name": "python3",
      "display_name": "Python 3"
    },
    "language_info": {
      "name": "python"
    },
    "accelerator": "GPU",
    "gpuClass": "standard"
  },
  "cells": [
    {
      "cell_type": "markdown",
      "source": [
        "https://github.com/ronakvijay/Protein_Sequence_Classification/blob/master/Pfam_protein_sequence_classification.ipynb"
      ],
      "metadata": {
        "id": "aQ1gNWl5cEbw"
      }
    },
    {
      "cell_type": "markdown",
      "source": [
        "https://towardsdatascience.com/protein-sequence-classification-99c80d0ad2df"
      ],
      "metadata": {
        "id": "K1Pu2cA1cRy-"
      }
    },
    {
      "cell_type": "code",
      "execution_count": 1,
      "metadata": {
        "colab": {
          "base_uri": "https://localhost:8080/"
        },
        "id": "Vhkv5R4gqaEL",
        "outputId": "699b84a6-b8c8-4cf3-849b-40ae2354deba"
      },
      "outputs": [
        {
          "output_type": "stream",
          "name": "stdout",
          "text": [
            "Mounted at /content/drive/\n"
          ]
        }
      ],
      "source": [
        "from google.colab import drive\n",
        "drive.mount(\"/content/drive/\")\n",
        "import os \n",
        "os.chdir(\"/content/drive/MyDrive/Challenge/\")"
      ]
    },
    {
      "cell_type": "code",
      "source": [
        "import csv\n",
        "import numpy as np\n",
        "from sklearn.metrics import accuracy_score, log_loss\n",
        "from sklearn.feature_extraction.text import TfidfVectorizer\n",
        "from sklearn.linear_model import LogisticRegression\n",
        "\n",
        "import math\n",
        "\n",
        "import torch\n",
        "import torch.nn as nn\n",
        "from torch.nn.utils.rnn import pad_sequence\n",
        "\n",
        "device = torch.device(\"cuda\" if torch.cuda.is_available() else \"cpu\")\n",
        "\n",
        "import numpy as np\n",
        "import networkx as nx\n",
        "import sklearn\n",
        "from sklearn import preprocessing"
      ],
      "metadata": {
        "id": "HgTVPKkauEW3"
      },
      "execution_count": 2,
      "outputs": []
    },
    {
      "cell_type": "code",
      "source": [
        "sequences = list()\n",
        "print('sequences.txt')\n",
        "with open('sequences.txt', 'r') as f:\n",
        "    for line in f:\n",
        "        sequences.append(line[:-1])\n",
        "\n",
        "# Split data into training and test sets\n",
        "sequences_train = list()\n",
        "sequences_test = list()\n",
        "proteins_test = list()\n",
        "y_train = list()\n",
        "with open('graph_labels.txt', 'r') as f:\n",
        "    for i,line in enumerate(f):\n",
        "        t = line.split(',')\n",
        "        if len(t[1][:-1]) == 0:\n",
        "            proteins_test.append(t[0])\n",
        "            sequences_test.append(sequences[i])\n",
        "        else:\n",
        "            sequences_train.append(sequences[i])\n",
        "            y_train.append(int(t[1][:-1]))\n",
        "sequences_train = np.array(sequences_train)\n",
        "y_train = np.array(y_train)"
      ],
      "metadata": {
        "colab": {
          "base_uri": "https://localhost:8080/"
        },
        "id": "ihOZLK4zt5nZ",
        "outputId": "08b2ced3-60bb-4cb9-a336-de0368f595b4"
      },
      "execution_count": 3,
      "outputs": [
        {
          "output_type": "stream",
          "name": "stdout",
          "text": [
            "sequences.txt\n"
          ]
        }
      ]
    },
    {
      "cell_type": "code",
      "source": [
        "len(sequences)"
      ],
      "metadata": {
        "colab": {
          "base_uri": "https://localhost:8080/"
        },
        "id": "Og0mIk-F89rv",
        "outputId": "09fc8447-9e04-49c0-9924-85996e53fa11"
      },
      "execution_count": 4,
      "outputs": [
        {
          "output_type": "execute_result",
          "data": {
            "text/plain": [
              "6111"
            ]
          },
          "metadata": {},
          "execution_count": 4
        }
      ]
    },
    {
      "cell_type": "code",
      "source": [
        "import matplotlib.pyplot as plt\n",
        "\n",
        "lengths = [len(sublist) for sublist in sequences]\n",
        "\n",
        "# Plot a histogram of the lengths\n",
        "plt.hist(lengths, bins=100)\n",
        "\n",
        "# Add labels to the x and y axes\n",
        "plt.xlabel('Length of sub-list')\n",
        "plt.ylabel('Frequency')\n",
        "\n",
        "# Display the histogram\n",
        "plt.show()"
      ],
      "metadata": {
        "colab": {
          "base_uri": "https://localhost:8080/",
          "height": 279
        },
        "id": "OouFJJ6p-q8R",
        "outputId": "bbb657a5-5060-45b9-a426-a7f819052dfb"
      },
      "execution_count": 5,
      "outputs": [
        {
          "output_type": "display_data",
          "data": {
            "text/plain": [
              "<Figure size 432x288 with 1 Axes>"
            ],
            "image/png": "[encoded data removed]"
          },
          "metadata": {
            "needs_background": "light"
          }
        }
      ]
    },
    {
      "cell_type": "code",
      "source": [
        "from collections import Counter\n",
        "\n",
        "\n",
        "# Initialize a dictionary to store the frequency of each amino acid\n",
        "amino_acid_counts = {}\n",
        "\n",
        "# Iterate over the sequences\n",
        "for seq in sequences:\n",
        "    # Count the frequency of each amino acid in the current sequence\n",
        "    counts = Counter(seq)\n",
        "    # Iterate over the counts\n",
        "    for amino_acid, count in counts.items():\n",
        "        # If the amino acid is not already in the dictionary, add it\n",
        "        if amino_acid not in amino_acid_counts:\n",
        "            amino_acid_counts[amino_acid] = 0\n",
        "        # Add the count to the count for the current amino acid\n",
        "        amino_acid_counts[amino_acid] += count\n",
        "\n",
        "sorted_amino_acid_counts = dict(sorted(amino_acid_counts.items(), key=lambda item: item[1], reverse=True))\n",
        "\n",
        "# Plot a bar chart of the frequency of each amino acid\n",
        "plt.bar(sorted_amino_acid_counts.keys(), sorted_amino_acid_counts.values())\n",
        "\n",
        "# Add labels to the x and y axes\n",
        "plt.xlabel('Amino Acid')\n",
        "plt.ylabel('Frequency')\n",
        "\n",
        "# Display the bar chart\n",
        "plt.show()"
      ],
      "metadata": {
        "colab": {
          "base_uri": "https://localhost:8080/",
          "height": 279
        },
        "id": "Wg9RjDlt_Drv",
        "outputId": "9075d2fd-9073-498c-f7ee-3490843f9790"
      },
      "execution_count": 6,
      "outputs": [
        {
          "output_type": "display_data",
          "data": {
            "text/plain": [
              "<Figure size 432x288 with 1 Axes>"
            ],
            "image/png": "[encoded data removed]"
          },
          "metadata": {
            "needs_background": "light"
          }
        }
      ]
    },
    {
      "cell_type": "code",
      "source": [
        "def create_dict(codes):\n",
        "  char_dict = {}\n",
        "  c=0\n",
        "  for seq in codes:\n",
        "    for letter in seq:\n",
        "      if letter not in char_dict.keys():\n",
        "        char_dict[letter] = c+1\n",
        "        c+=1\n",
        "\n",
        "  return char_dict\n",
        "\n",
        "char_dict = create_dict(sequences)\n",
        "\n",
        "def integer_encoding(data):\n",
        "  \"\"\"\n",
        "  - Encodes code sequence to integer values.\n",
        "  - 20 common amino acids are taken into consideration\n",
        "    and rest 4 are categorized as 0.\n",
        "  \"\"\"\n",
        "  \n",
        "  encode_list = []\n",
        "  for row in data:\n",
        "    row_encode = []\n",
        "    for code in row:\n",
        "      row_encode.append(char_dict.get(code, 0))\n",
        "    encode_list.append(np.array(row_encode))\n",
        "  \n",
        "  return encode_list\n",
        "\n",
        "from sklearn.model_selection import train_test_split\n",
        "\n",
        "sequences_train_ , sequences_val, y_train_, y_val = train_test_split(sequences_train,y_train ,\n",
        "                                   random_state=104, \n",
        "                                   test_size=0.1, \n",
        "                                   shuffle=True)\n",
        "train_sm = sequences_train_\n",
        "val_sm = sequences_val\n",
        "test_sm = sequences_test\n",
        "train_encode = integer_encoding(train_sm)\n",
        "val_encode = integer_encoding(val_sm)\n",
        "test_encode = integer_encoding(test_sm)\n",
        "# train_encode = [integer_encoding(seq.tolist()) for seq in train_sm]\n",
        "# val_encode = [integer_encoding(seq.tolist()) for seq in val_sm]\n",
        "# test_encode = [integer_encoding([i for i in seq]) for seq in test_sm]"
      ],
      "metadata": {
        "id": "7qHrQoC0D_GY"
      },
      "execution_count": 7,
      "outputs": []
    },
    {
      "cell_type": "code",
      "source": [
        "from keras_preprocessing.sequence import pad_sequences\n",
        "\n",
        "# padding sequences\n",
        "max_length = 512\n",
        "train_pad = pad_sequences(train_encode, maxlen=max_length, padding='post', truncating='post')\n",
        "val_pad = pad_sequences(val_encode, maxlen=max_length, padding='post', truncating='post')\n",
        "test_pad = pad_sequences(test_encode, maxlen=max_length, padding='post', truncating='post')\n",
        "\n",
        "train_pad.shape, val_pad.shape, test_pad.shape"
      ],
      "metadata": {
        "colab": {
          "base_uri": "https://localhost:8080/"
        },
        "id": "Sg_hol5LHIj2",
        "outputId": "05cbee82-b0a8-432c-a711-6898e6fdd4a5"
      },
      "execution_count": 8,
      "outputs": [
        {
          "output_type": "execute_result",
          "data": {
            "text/plain": [
              "((4399, 512), (489, 512), (1223, 512))"
            ]
          },
          "metadata": {},
          "execution_count": 8
        }
      ]
    },
    {
      "cell_type": "code",
      "source": [
        "from keras.utils import to_categorical\n",
        "\n",
        "# One hot encoding of sequences\n",
        "train_ohe = to_categorical(train_pad)\n",
        "val_ohe = to_categorical(val_pad)\n",
        "test_ohe = to_categorical(test_pad)\n",
        "\n",
        "train_ohe.shape, test_ohe.shape, test_ohe.shape "
      ],
      "metadata": {
        "colab": {
          "base_uri": "https://localhost:8080/"
        },
        "id": "6iDlRqw1LKzr",
        "outputId": "f455e8d6-3364-4963-dff2-e2732ec9d7c6"
      },
      "execution_count": 9,
      "outputs": [
        {
          "output_type": "execute_result",
          "data": {
            "text/plain": [
              "((4399, 512, 22), (1223, 512, 22), (1223, 512, 22))"
            ]
          },
          "metadata": {},
          "execution_count": 9
        }
      ]
    },
    {
      "cell_type": "code",
      "source": [
        "def plot_history(history):\n",
        "  acc = history.history['accuracy']\n",
        "  val_acc = history.history['val_accuracy']\n",
        "  loss = history.history['loss']\n",
        "  val_loss = history.history['val_loss']\n",
        "  x = range(1, len(acc) + 1)\n",
        "\n",
        "  plt.figure(figsize=(12, 5))\n",
        "  plt.subplot(1, 2, 1)\n",
        "  plt.plot(x, acc, 'b', label='Training acc')\n",
        "  plt.plot(x, val_acc, 'r', label='Validation acc')\n",
        "  plt.title('Training and validation accuracy')\n",
        "  plt.legend()\n",
        "\n",
        "  plt.subplot(1, 2, 2)\n",
        "  plt.plot(x, loss, 'b', label='Training loss')\n",
        "  plt.plot(x, val_loss, 'r', label='Validation loss')\n",
        "  plt.title('Training and validation loss')\n",
        "  plt.legend()"
      ],
      "metadata": {
        "id": "Ds6J9QmSWtBX"
      },
      "execution_count": 10,
      "outputs": []
    },
    {
      "cell_type": "markdown",
      "source": [
        "#LSTM"
      ],
      "metadata": {
        "id": "5wmh1M4BSYjM"
      }
    },
    {
      "cell_type": "code",
      "source": [
        "import numpy as np\n",
        "from tensorflow.keras.datasets import imdb\n",
        "\n",
        "from tensorflow.keras import backend as K\n",
        "from tensorflow.keras import Model,losses\n",
        "from tensorflow.keras.models import Sequential\n",
        "from tensorflow.keras.preprocessing import sequence\n",
        "from tensorflow.keras.layers import Dense, Activation, Embedding, Dropout, Input, LSTM, Reshape, Lambda, RepeatVector, Bidirectional"
      ],
      "metadata": {
        "id": "hxqzjjFuLzcR"
      },
      "execution_count": 11,
      "outputs": []
    },
    {
      "cell_type": "code",
      "source": [
        "top_words = 22\n",
        "embedding_vector_length = 32\n",
        "\n",
        "inputs = Input(shape=(max_length,))\n",
        "embedding = Embedding(input_dim=top_words, output_dim=embedding_vector_length, input_length=max_length)(inputs)\n",
        "# lstm = Bidirectional(LSTM(128)(embedding))\n",
        "lstm = Bidirectional(LSTM(128, return_sequences=True))(embedding)\n",
        "lstm1 = Bidirectional(LSTM(128))(lstm)\n",
        "dense = Dense(22, activation=\"sigmoid\")\n",
        "x = dense(lstm1)\n",
        "model = Model(inputs=inputs, outputs=x)\n",
        "\n",
        "print(model.summary())"
      ],
      "metadata": {
        "colab": {
          "base_uri": "https://localhost:8080/"
        },
        "id": "KIKBumHzLPIV",
        "outputId": "fa0ecdb4-5f93-4eab-a677-a3fc1c282ca0"
      },
      "execution_count": 12,
      "outputs": [
        {
          "output_type": "stream",
          "name": "stdout",
          "text": [
            "Model: \"model\"\n",
            "_________________________________________________________________\n",
            " Layer (type)                Output Shape              Param #   \n",
            "=================================================================\n",
            " input_1 (InputLayer)        [(None, 512)]             0         \n",
            "                                                                 \n",
            " embedding (Embedding)       (None, 512, 32)           704       \n",
            "                                                                 \n",
            " bidirectional (Bidirectiona  (None, 512, 256)         164864    \n",
            " l)                                                              \n",
            "                                                                 \n",
            " bidirectional_1 (Bidirectio  (None, 256)              394240    \n",
            " nal)                                                            \n",
            "                                                                 \n",
            " dense (Dense)               (None, 22)                5654      \n",
            "                                                                 \n",
            "=================================================================\n",
            "Total params: 565,462\n",
            "Trainable params: 565,462\n",
            "Non-trainable params: 0\n",
            "_________________________________________________________________\n",
            "None\n"
          ]
        }
      ]
    },
    {
      "cell_type": "code",
      "source": [
        "# --- compile and fit the model\n",
        "model.compile(loss= 'sparse_categorical_crossentropy', optimizer='adam', metrics=['accuracy'])\n",
        "model_lstm = model.fit(train_pad, y_train_, epochs=130, batch_size=1024, validation_data=(val_pad, y_val))"
      ],
      "metadata": {
        "colab": {
          "base_uri": "https://localhost:8080/"
        },
        "id": "Ojrhh5DSOE7B",
        "outputId": "26fad373-7ae8-42e1-8953-a31878d3b36a"
      },
      "execution_count": 13,
      "outputs": [
        {
          "output_type": "stream",
          "name": "stdout",
          "text": [
            "Epoch 1/130\n",
            "5/5 [==============================] - 14s 1s/step - loss: 3.0483 - accuracy: 0.1748 - val_loss: 2.8458 - val_accuracy: 0.2045\n",
            "Epoch 2/130\n",
            "5/5 [==============================] - 4s 737ms/step - loss: 2.6170 - accuracy: 0.2041 - val_loss: 2.4889 - val_accuracy: 0.1943\n",
            "Epoch 3/130\n",
            "5/5 [==============================] - 4s 740ms/step - loss: 2.4181 - accuracy: 0.1919 - val_loss: 2.4614 - val_accuracy: 0.1943\n",
            "Epoch 4/130\n",
            "5/5 [==============================] - 4s 741ms/step - loss: 2.3862 - accuracy: 0.2019 - val_loss: 2.3963 - val_accuracy: 0.2045\n",
            "Epoch 5/130\n",
            "5/5 [==============================] - 4s 744ms/step - loss: 2.3667 - accuracy: 0.2041 - val_loss: 2.3869 - val_accuracy: 0.1984\n",
            "Epoch 6/130\n",
            "5/5 [==============================] - 4s 746ms/step - loss: 2.3625 - accuracy: 0.2355 - val_loss: 2.3894 - val_accuracy: 0.1984\n",
            "Epoch 7/130\n",
            "5/5 [==============================] - 4s 745ms/step - loss: 2.3549 - accuracy: 0.2060 - val_loss: 2.3919 - val_accuracy: 0.2065\n",
            "Epoch 8/130\n",
            "5/5 [==============================] - 4s 748ms/step - loss: 2.3521 - accuracy: 0.2466 - val_loss: 2.3833 - val_accuracy: 0.2065\n",
            "Epoch 9/130\n",
            "5/5 [==============================] - 4s 749ms/step - loss: 2.3483 - accuracy: 0.2041 - val_loss: 2.3821 - val_accuracy: 0.2045\n",
            "Epoch 10/130\n",
            "5/5 [==============================] - 4s 750ms/step - loss: 2.3469 - accuracy: 0.2137 - val_loss: 2.3746 - val_accuracy: 0.2761\n",
            "Epoch 11/130\n",
            "5/5 [==============================] - 4s 751ms/step - loss: 2.3381 - accuracy: 0.2771 - val_loss: 2.3632 - val_accuracy: 0.2474\n",
            "Epoch 12/130\n",
            "5/5 [==============================] - 4s 755ms/step - loss: 2.3248 - accuracy: 0.2628 - val_loss: 2.4147 - val_accuracy: 0.2188\n",
            "Epoch 13/130\n",
            "5/5 [==============================] - 4s 758ms/step - loss: 2.3459 - accuracy: 0.2196 - val_loss: 2.3786 - val_accuracy: 0.2413\n",
            "Epoch 14/130\n",
            "5/5 [==============================] - 4s 760ms/step - loss: 2.3229 - accuracy: 0.2230 - val_loss: 2.3347 - val_accuracy: 0.2638\n",
            "Epoch 15/130\n",
            "5/5 [==============================] - 4s 756ms/step - loss: 2.2968 - accuracy: 0.2917 - val_loss: 2.3055 - val_accuracy: 0.3027\n",
            "Epoch 16/130\n",
            "5/5 [==============================] - 4s 756ms/step - loss: 2.2411 - accuracy: 0.3085 - val_loss: 2.2684 - val_accuracy: 0.3088\n",
            "Epoch 17/130\n",
            "5/5 [==============================] - 4s 757ms/step - loss: 2.2002 - accuracy: 0.3139 - val_loss: 2.2464 - val_accuracy: 0.3047\n",
            "Epoch 18/130\n",
            "5/5 [==============================] - 4s 758ms/step - loss: 2.1956 - accuracy: 0.3101 - val_loss: 2.2448 - val_accuracy: 0.3067\n",
            "Epoch 19/130\n",
            "5/5 [==============================] - 4s 758ms/step - loss: 2.1748 - accuracy: 0.3114 - val_loss: 2.2292 - val_accuracy: 0.3190\n",
            "Epoch 20/130\n",
            "5/5 [==============================] - 4s 769ms/step - loss: 2.1744 - accuracy: 0.3176 - val_loss: 2.2395 - val_accuracy: 0.3108\n",
            "Epoch 21/130\n",
            "5/5 [==============================] - 4s 765ms/step - loss: 2.1549 - accuracy: 0.3139 - val_loss: 2.2085 - val_accuracy: 0.3129\n",
            "Epoch 22/130\n",
            "5/5 [==============================] - 4s 765ms/step - loss: 2.1300 - accuracy: 0.3273 - val_loss: 2.1633 - val_accuracy: 0.3231\n",
            "Epoch 23/130\n",
            "5/5 [==============================] - 4s 769ms/step - loss: 2.0939 - accuracy: 0.3474 - val_loss: 2.1495 - val_accuracy: 0.3476\n",
            "Epoch 24/130\n",
            "5/5 [==============================] - 4s 774ms/step - loss: 2.1118 - accuracy: 0.3398 - val_loss: 2.1840 - val_accuracy: 0.3211\n",
            "Epoch 25/130\n",
            "5/5 [==============================] - 4s 771ms/step - loss: 2.1210 - accuracy: 0.3460 - val_loss: 2.1789 - val_accuracy: 0.3292\n",
            "Epoch 26/130\n",
            "5/5 [==============================] - 4s 776ms/step - loss: 2.1013 - accuracy: 0.3464 - val_loss: 2.1582 - val_accuracy: 0.3027\n",
            "Epoch 27/130\n",
            "5/5 [==============================] - 4s 779ms/step - loss: 2.0870 - accuracy: 0.3476 - val_loss: 2.1441 - val_accuracy: 0.3170\n",
            "Epoch 28/130\n",
            "5/5 [==============================] - 4s 781ms/step - loss: 2.0616 - accuracy: 0.3517 - val_loss: 2.1656 - val_accuracy: 0.3333\n",
            "Epoch 29/130\n",
            "5/5 [==============================] - 4s 781ms/step - loss: 2.0587 - accuracy: 0.3578 - val_loss: 2.1121 - val_accuracy: 0.3333\n",
            "Epoch 30/130\n",
            "5/5 [==============================] - 4s 785ms/step - loss: 2.0394 - accuracy: 0.3653 - val_loss: 2.1028 - val_accuracy: 0.3415\n",
            "Epoch 31/130\n",
            "5/5 [==============================] - 4s 783ms/step - loss: 2.0164 - accuracy: 0.3608 - val_loss: 2.0934 - val_accuracy: 0.3354\n",
            "Epoch 32/130\n",
            "5/5 [==============================] - 4s 783ms/step - loss: 2.0014 - accuracy: 0.3678 - val_loss: 2.0719 - val_accuracy: 0.3436\n",
            "Epoch 33/130\n",
            "5/5 [==============================] - 4s 787ms/step - loss: 1.9912 - accuracy: 0.3651 - val_loss: 2.0733 - val_accuracy: 0.3436\n",
            "Epoch 34/130\n",
            "5/5 [==============================] - 4s 784ms/step - loss: 1.9885 - accuracy: 0.3705 - val_loss: 2.0795 - val_accuracy: 0.3374\n",
            "Epoch 35/130\n",
            "5/5 [==============================] - 4s 787ms/step - loss: 1.9803 - accuracy: 0.3701 - val_loss: 2.0514 - val_accuracy: 0.3640\n",
            "Epoch 36/130\n",
            "5/5 [==============================] - 4s 791ms/step - loss: 1.9651 - accuracy: 0.3737 - val_loss: 2.0647 - val_accuracy: 0.3579\n",
            "Epoch 37/130\n",
            "5/5 [==============================] - 4s 793ms/step - loss: 1.9693 - accuracy: 0.3808 - val_loss: 2.0459 - val_accuracy: 0.3436\n",
            "Epoch 38/130\n",
            "5/5 [==============================] - 4s 789ms/step - loss: 1.9489 - accuracy: 0.3865 - val_loss: 2.0284 - val_accuracy: 0.3906\n",
            "Epoch 39/130\n",
            "5/5 [==============================] - 4s 786ms/step - loss: 1.9340 - accuracy: 0.3846 - val_loss: 2.0211 - val_accuracy: 0.3804\n",
            "Epoch 40/130\n",
            "5/5 [==============================] - 4s 792ms/step - loss: 1.9263 - accuracy: 0.3874 - val_loss: 2.0250 - val_accuracy: 0.3599\n",
            "Epoch 41/130\n",
            "5/5 [==============================] - 4s 793ms/step - loss: 1.9266 - accuracy: 0.3892 - val_loss: 2.0323 - val_accuracy: 0.3599\n",
            "Epoch 42/130\n",
            "5/5 [==============================] - 4s 792ms/step - loss: 1.9198 - accuracy: 0.3912 - val_loss: 2.0271 - val_accuracy: 0.3722\n",
            "Epoch 43/130\n",
            "5/5 [==============================] - 4s 791ms/step - loss: 1.9075 - accuracy: 0.4021 - val_loss: 2.0183 - val_accuracy: 0.3885\n",
            "Epoch 44/130\n",
            "5/5 [==============================] - 4s 792ms/step - loss: 1.9018 - accuracy: 0.4003 - val_loss: 2.0495 - val_accuracy: 0.3517\n",
            "Epoch 45/130\n",
            "5/5 [==============================] - 4s 796ms/step - loss: 1.9082 - accuracy: 0.4053 - val_loss: 2.0378 - val_accuracy: 0.3661\n",
            "Epoch 46/130\n",
            "5/5 [==============================] - 4s 798ms/step - loss: 1.8973 - accuracy: 0.4092 - val_loss: 2.0242 - val_accuracy: 0.3579\n",
            "Epoch 47/130\n",
            "5/5 [==============================] - 4s 796ms/step - loss: 1.9310 - accuracy: 0.3917 - val_loss: 2.0125 - val_accuracy: 0.3722\n",
            "Epoch 48/130\n",
            "5/5 [==============================] - 4s 799ms/step - loss: 1.9060 - accuracy: 0.3978 - val_loss: 1.9899 - val_accuracy: 0.3763\n",
            "Epoch 49/130\n",
            "5/5 [==============================] - 4s 794ms/step - loss: 1.8910 - accuracy: 0.4071 - val_loss: 2.0278 - val_accuracy: 0.3579\n",
            "Epoch 50/130\n",
            "5/5 [==============================] - 4s 797ms/step - loss: 1.8975 - accuracy: 0.4083 - val_loss: 1.9975 - val_accuracy: 0.3845\n",
            "Epoch 51/130\n",
            "5/5 [==============================] - 4s 799ms/step - loss: 1.8781 - accuracy: 0.4053 - val_loss: 2.0491 - val_accuracy: 0.3804\n",
            "Epoch 52/130\n",
            "5/5 [==============================] - 4s 808ms/step - loss: 1.9151 - accuracy: 0.3992 - val_loss: 2.0452 - val_accuracy: 0.3845\n",
            "Epoch 53/130\n",
            "5/5 [==============================] - 4s 801ms/step - loss: 1.8995 - accuracy: 0.4021 - val_loss: 2.0208 - val_accuracy: 0.3742\n",
            "Epoch 54/130\n",
            "5/5 [==============================] - 4s 805ms/step - loss: 1.8782 - accuracy: 0.4142 - val_loss: 2.0047 - val_accuracy: 0.3926\n",
            "Epoch 55/130\n",
            "5/5 [==============================] - 4s 810ms/step - loss: 1.8603 - accuracy: 0.4262 - val_loss: 1.9909 - val_accuracy: 0.3926\n",
            "Epoch 56/130\n",
            "5/5 [==============================] - 4s 806ms/step - loss: 1.8581 - accuracy: 0.4171 - val_loss: 1.9986 - val_accuracy: 0.3947\n",
            "Epoch 57/130\n",
            "5/5 [==============================] - 4s 804ms/step - loss: 1.8637 - accuracy: 0.4176 - val_loss: 1.9965 - val_accuracy: 0.4070\n",
            "Epoch 58/130\n",
            "5/5 [==============================] - 4s 805ms/step - loss: 1.8346 - accuracy: 0.4244 - val_loss: 1.9772 - val_accuracy: 0.3988\n",
            "Epoch 59/130\n",
            "5/5 [==============================] - 4s 802ms/step - loss: 1.8238 - accuracy: 0.4317 - val_loss: 1.9915 - val_accuracy: 0.4029\n",
            "Epoch 60/130\n",
            "5/5 [==============================] - 4s 798ms/step - loss: 1.8423 - accuracy: 0.4281 - val_loss: 1.9743 - val_accuracy: 0.4049\n",
            "Epoch 61/130\n",
            "5/5 [==============================] - 4s 804ms/step - loss: 1.8384 - accuracy: 0.4228 - val_loss: 1.9923 - val_accuracy: 0.3865\n",
            "Epoch 62/130\n",
            "5/5 [==============================] - 4s 803ms/step - loss: 1.8331 - accuracy: 0.4233 - val_loss: 2.0098 - val_accuracy: 0.3947\n",
            "Epoch 63/130\n",
            "5/5 [==============================] - 4s 797ms/step - loss: 1.8497 - accuracy: 0.4219 - val_loss: 1.9813 - val_accuracy: 0.4131\n",
            "Epoch 64/130\n",
            "5/5 [==============================] - 4s 803ms/step - loss: 1.8413 - accuracy: 0.4235 - val_loss: 1.9993 - val_accuracy: 0.3865\n",
            "Epoch 65/130\n",
            "5/5 [==============================] - 4s 800ms/step - loss: 1.8134 - accuracy: 0.4356 - val_loss: 1.9728 - val_accuracy: 0.3824\n",
            "Epoch 66/130\n",
            "5/5 [==============================] - 4s 807ms/step - loss: 1.8092 - accuracy: 0.4360 - val_loss: 1.9960 - val_accuracy: 0.3988\n",
            "Epoch 67/130\n",
            "5/5 [==============================] - 4s 802ms/step - loss: 1.8072 - accuracy: 0.4367 - val_loss: 1.9925 - val_accuracy: 0.3988\n",
            "Epoch 68/130\n",
            "5/5 [==============================] - 4s 798ms/step - loss: 1.8040 - accuracy: 0.4326 - val_loss: 1.9663 - val_accuracy: 0.4090\n",
            "Epoch 69/130\n",
            "5/5 [==============================] - 4s 801ms/step - loss: 1.7953 - accuracy: 0.4392 - val_loss: 1.9906 - val_accuracy: 0.3967\n",
            "Epoch 70/130\n",
            "5/5 [==============================] - 4s 802ms/step - loss: 1.7819 - accuracy: 0.4471 - val_loss: 1.9854 - val_accuracy: 0.4070\n",
            "Epoch 71/130\n",
            "5/5 [==============================] - 4s 806ms/step - loss: 1.7988 - accuracy: 0.4360 - val_loss: 1.9691 - val_accuracy: 0.4090\n",
            "Epoch 72/130\n",
            "5/5 [==============================] - 4s 811ms/step - loss: 1.7940 - accuracy: 0.4399 - val_loss: 2.0140 - val_accuracy: 0.3988\n",
            "Epoch 73/130\n",
            "5/5 [==============================] - 4s 813ms/step - loss: 1.7936 - accuracy: 0.4421 - val_loss: 1.9621 - val_accuracy: 0.3947\n",
            "Epoch 74/130\n",
            "5/5 [==============================] - 4s 814ms/step - loss: 1.7646 - accuracy: 0.4506 - val_loss: 2.0540 - val_accuracy: 0.4008\n",
            "Epoch 75/130\n",
            "5/5 [==============================] - 4s 822ms/step - loss: 1.7835 - accuracy: 0.4415 - val_loss: 1.9797 - val_accuracy: 0.3906\n",
            "Epoch 76/130\n",
            "5/5 [==============================] - 4s 828ms/step - loss: 1.7811 - accuracy: 0.4449 - val_loss: 1.9713 - val_accuracy: 0.4110\n",
            "Epoch 77/130\n",
            "5/5 [==============================] - 4s 821ms/step - loss: 1.7669 - accuracy: 0.4444 - val_loss: 1.9571 - val_accuracy: 0.3947\n",
            "Epoch 78/130\n",
            "5/5 [==============================] - 4s 828ms/step - loss: 1.7796 - accuracy: 0.4401 - val_loss: 1.9518 - val_accuracy: 0.4090\n",
            "Epoch 79/130\n",
            "5/5 [==============================] - 4s 821ms/step - loss: 1.7700 - accuracy: 0.4456 - val_loss: 2.0677 - val_accuracy: 0.3885\n",
            "Epoch 80/130\n",
            "5/5 [==============================] - 4s 824ms/step - loss: 1.8099 - accuracy: 0.4381 - val_loss: 1.9791 - val_accuracy: 0.3906\n",
            "Epoch 81/130\n",
            "5/5 [==============================] - 4s 820ms/step - loss: 1.7830 - accuracy: 0.4317 - val_loss: 2.0393 - val_accuracy: 0.3947\n",
            "Epoch 82/130\n",
            "5/5 [==============================] - 4s 815ms/step - loss: 1.8334 - accuracy: 0.4287 - val_loss: 1.9706 - val_accuracy: 0.4029\n",
            "Epoch 83/130\n",
            "5/5 [==============================] - 4s 815ms/step - loss: 1.8008 - accuracy: 0.4374 - val_loss: 1.9563 - val_accuracy: 0.4008\n",
            "Epoch 84/130\n",
            "5/5 [==============================] - 4s 818ms/step - loss: 1.7611 - accuracy: 0.4487 - val_loss: 1.9591 - val_accuracy: 0.4192\n",
            "Epoch 85/130\n",
            "5/5 [==============================] - 4s 806ms/step - loss: 1.7451 - accuracy: 0.4456 - val_loss: 1.9468 - val_accuracy: 0.3926\n",
            "Epoch 86/130\n",
            "5/5 [==============================] - 4s 804ms/step - loss: 1.7320 - accuracy: 0.4524 - val_loss: 1.9462 - val_accuracy: 0.4233\n",
            "Epoch 87/130\n",
            "5/5 [==============================] - 4s 805ms/step - loss: 1.7103 - accuracy: 0.4656 - val_loss: 1.9681 - val_accuracy: 0.4254\n",
            "Epoch 88/130\n",
            "5/5 [==============================] - 4s 811ms/step - loss: 1.6982 - accuracy: 0.4656 - val_loss: 1.9474 - val_accuracy: 0.4233\n",
            "Epoch 89/130\n",
            "5/5 [==============================] - 4s 810ms/step - loss: 1.7018 - accuracy: 0.4596 - val_loss: 2.0043 - val_accuracy: 0.3967\n",
            "Epoch 90/130\n",
            "5/5 [==============================] - 4s 810ms/step - loss: 1.7150 - accuracy: 0.4581 - val_loss: 1.9294 - val_accuracy: 0.4172\n",
            "Epoch 91/130\n",
            "5/5 [==============================] - 4s 813ms/step - loss: 1.6852 - accuracy: 0.4656 - val_loss: 1.9678 - val_accuracy: 0.4110\n",
            "Epoch 92/130\n",
            "5/5 [==============================] - 4s 811ms/step - loss: 1.6724 - accuracy: 0.4797 - val_loss: 1.9501 - val_accuracy: 0.4356\n",
            "Epoch 93/130\n",
            "5/5 [==============================] - 4s 813ms/step - loss: 1.6700 - accuracy: 0.4758 - val_loss: 1.9438 - val_accuracy: 0.4213\n",
            "Epoch 94/130\n",
            "5/5 [==============================] - 4s 818ms/step - loss: 1.8411 - accuracy: 0.4287 - val_loss: 2.4688 - val_accuracy: 0.2270\n",
            "Epoch 95/130\n",
            "5/5 [==============================] - 4s 827ms/step - loss: 2.2241 - accuracy: 0.3176 - val_loss: 2.3254 - val_accuracy: 0.2802\n",
            "Epoch 96/130\n",
            "5/5 [==============================] - 4s 825ms/step - loss: 2.1546 - accuracy: 0.3358 - val_loss: 2.2077 - val_accuracy: 0.3395\n",
            "Epoch 97/130\n",
            "5/5 [==============================] - 4s 830ms/step - loss: 2.0576 - accuracy: 0.3637 - val_loss: 2.1275 - val_accuracy: 0.3701\n",
            "Epoch 98/130\n",
            "5/5 [==============================] - 4s 842ms/step - loss: 1.9908 - accuracy: 0.3999 - val_loss: 2.0805 - val_accuracy: 0.3579\n",
            "Epoch 99/130\n",
            "5/5 [==============================] - 4s 836ms/step - loss: 2.0022 - accuracy: 0.3924 - val_loss: 2.0469 - val_accuracy: 0.3783\n",
            "Epoch 100/130\n",
            "5/5 [==============================] - 4s 826ms/step - loss: 1.9458 - accuracy: 0.4053 - val_loss: 2.0603 - val_accuracy: 0.3885\n",
            "Epoch 101/130\n",
            "5/5 [==============================] - 4s 828ms/step - loss: 1.9326 - accuracy: 0.4133 - val_loss: 2.0251 - val_accuracy: 0.3845\n",
            "Epoch 102/130\n",
            "5/5 [==============================] - 4s 821ms/step - loss: 1.9165 - accuracy: 0.4080 - val_loss: 1.9880 - val_accuracy: 0.4029\n",
            "Epoch 103/130\n",
            "5/5 [==============================] - 4s 823ms/step - loss: 1.8594 - accuracy: 0.4260 - val_loss: 1.9974 - val_accuracy: 0.3824\n",
            "Epoch 104/130\n",
            "5/5 [==============================] - 4s 811ms/step - loss: 1.9670 - accuracy: 0.4042 - val_loss: 2.1056 - val_accuracy: 0.3538\n",
            "Epoch 105/130\n",
            "5/5 [==============================] - 4s 820ms/step - loss: 2.1085 - accuracy: 0.3378 - val_loss: 2.1367 - val_accuracy: 0.3190\n",
            "Epoch 106/130\n",
            "5/5 [==============================] - 4s 814ms/step - loss: 2.0423 - accuracy: 0.3585 - val_loss: 2.1483 - val_accuracy: 0.3395\n",
            "Epoch 107/130\n",
            "5/5 [==============================] - 4s 810ms/step - loss: 2.0165 - accuracy: 0.3667 - val_loss: 2.0882 - val_accuracy: 0.3497\n",
            "Epoch 108/130\n",
            "5/5 [==============================] - 4s 806ms/step - loss: 2.0087 - accuracy: 0.3576 - val_loss: 2.1052 - val_accuracy: 0.3456\n",
            "Epoch 109/130\n",
            "5/5 [==============================] - 4s 809ms/step - loss: 1.9809 - accuracy: 0.3794 - val_loss: 2.0685 - val_accuracy: 0.3722\n",
            "Epoch 110/130\n",
            "5/5 [==============================] - 4s 805ms/step - loss: 1.9338 - accuracy: 0.3830 - val_loss: 2.0456 - val_accuracy: 0.3640\n",
            "Epoch 111/130\n",
            "5/5 [==============================] - 4s 810ms/step - loss: 2.0416 - accuracy: 0.3589 - val_loss: 2.1602 - val_accuracy: 0.3067\n",
            "Epoch 112/130\n",
            "5/5 [==============================] - 4s 807ms/step - loss: 2.0129 - accuracy: 0.3630 - val_loss: 2.1067 - val_accuracy: 0.3436\n",
            "Epoch 113/130\n",
            "5/5 [==============================] - 4s 805ms/step - loss: 2.0225 - accuracy: 0.3535 - val_loss: 2.0993 - val_accuracy: 0.3415\n",
            "Epoch 114/130\n",
            "5/5 [==============================] - 4s 806ms/step - loss: 1.9665 - accuracy: 0.3828 - val_loss: 2.1063 - val_accuracy: 0.3395\n",
            "Epoch 115/130\n",
            "5/5 [==============================] - 4s 812ms/step - loss: 1.9344 - accuracy: 0.3946 - val_loss: 2.0406 - val_accuracy: 0.3456\n",
            "Epoch 116/130\n",
            "5/5 [==============================] - 4s 808ms/step - loss: 1.8969 - accuracy: 0.4074 - val_loss: 2.0306 - val_accuracy: 0.3824\n",
            "Epoch 117/130\n",
            "5/5 [==============================] - 4s 808ms/step - loss: 1.8734 - accuracy: 0.4130 - val_loss: 2.0146 - val_accuracy: 0.3885\n",
            "Epoch 118/130\n",
            "5/5 [==============================] - 4s 811ms/step - loss: 1.8625 - accuracy: 0.4185 - val_loss: 2.0123 - val_accuracy: 0.3640\n",
            "Epoch 119/130\n",
            "5/5 [==============================] - 4s 813ms/step - loss: 1.8491 - accuracy: 0.4183 - val_loss: 1.9990 - val_accuracy: 0.3783\n",
            "Epoch 120/130\n",
            "5/5 [==============================] - 4s 815ms/step - loss: 1.8522 - accuracy: 0.4192 - val_loss: 1.9957 - val_accuracy: 0.3824\n",
            "Epoch 121/130\n",
            "5/5 [==============================] - 4s 814ms/step - loss: 1.8304 - accuracy: 0.4315 - val_loss: 1.9997 - val_accuracy: 0.3579\n",
            "Epoch 122/130\n",
            "5/5 [==============================] - 4s 824ms/step - loss: 1.8191 - accuracy: 0.4301 - val_loss: 1.9996 - val_accuracy: 0.3824\n",
            "Epoch 123/130\n",
            "5/5 [==============================] - 4s 815ms/step - loss: 1.8075 - accuracy: 0.4399 - val_loss: 1.9743 - val_accuracy: 0.4029\n",
            "Epoch 124/130\n",
            "5/5 [==============================] - 4s 816ms/step - loss: 1.7999 - accuracy: 0.4453 - val_loss: 1.9964 - val_accuracy: 0.4110\n",
            "Epoch 125/130\n",
            "5/5 [==============================] - 4s 813ms/step - loss: 1.8028 - accuracy: 0.4469 - val_loss: 1.9703 - val_accuracy: 0.4151\n",
            "Epoch 126/130\n",
            "5/5 [==============================] - 4s 806ms/step - loss: 1.8100 - accuracy: 0.4471 - val_loss: 1.9651 - val_accuracy: 0.3885\n",
            "Epoch 127/130\n",
            "5/5 [==============================] - 4s 814ms/step - loss: 1.7849 - accuracy: 0.4492 - val_loss: 1.9545 - val_accuracy: 0.4070\n",
            "Epoch 128/130\n",
            "5/5 [==============================] - 4s 814ms/step - loss: 1.7653 - accuracy: 0.4533 - val_loss: 1.9556 - val_accuracy: 0.4131\n",
            "Epoch 129/130\n",
            "5/5 [==============================] - 4s 814ms/step - loss: 1.7543 - accuracy: 0.4642 - val_loss: 1.9607 - val_accuracy: 0.4090\n",
            "Epoch 130/130\n",
            "5/5 [==============================] - 4s 807ms/step - loss: 1.7485 - accuracy: 0.4715 - val_loss: 1.9478 - val_accuracy: 0.4070\n"
          ]
        }
      ]
    },
    {
      "cell_type": "code",
      "source": [
        "pip install --upgrade torch"
      ],
      "metadata": {
        "colab": {
          "base_uri": "https://localhost:8080/"
        },
        "id": "Hd7iU1IWJicB",
        "outputId": "d4d86662-720d-4579-e2a1-dcb17561956a"
      },
      "execution_count": null,
      "outputs": [
        {
          "output_type": "stream",
          "name": "stdout",
          "text": [
            "Looking in indexes: https://pypi.org/simple, https://us-python.pkg.dev/colab-wheels/public/simple/\n",
            "Collecting torch==1.7.0\n",
            "  Downloading torch-1.7.0-cp38-cp38-manylinux1_x86_64.whl (776.8 MB)\n",
            "\u001b[2K     \u001b[90m━━━━━━━━━━━━━━━━━━━━━━━━━━━━━━━━━━━━━━━\u001b[0m \u001b[32m776.8/776.8 MB\u001b[0m \u001b[31m1.8 MB/s\u001b[0m eta \u001b[36m0:00:00\u001b[0m\n",
            "\u001b[?25hCollecting dataclasses\n",
            "  Downloading dataclasses-0.6-py3-none-any.whl (14 kB)\n",
            "Requirement already satisfied: typing-extensions in /usr/local/lib/python3.8/dist-packages (from torch==1.7.0) (4.4.0)\n",
            "Requirement already satisfied: numpy in /usr/local/lib/python3.8/dist-packages (from torch==1.7.0) (1.21.6)\n",
            "Requirement already satisfied: future in /usr/local/lib/python3.8/dist-packages (from torch==1.7.0) (0.16.0)\n",
            "Installing collected packages: dataclasses, torch\n",
            "  Attempting uninstall: torch\n",
            "    Found existing installation: torch 1.13.1+cu116\n",
            "    Uninstalling torch-1.13.1+cu116:\n",
            "      Successfully uninstalled torch-1.13.1+cu116\n",
            "\u001b[31mERROR: pip's dependency resolver does not currently take into account all the packages that are installed. This behaviour is the source of the following dependency conflicts.\n",
            "torchvision 0.14.1+cu116 requires torch==1.13.1, but you have torch 1.7.0 which is incompatible.\n",
            "torchtext 0.14.1 requires torch==1.13.1, but you have torch 1.7.0 which is incompatible.\n",
            "torchaudio 0.13.1+cu116 requires torch==1.13.1, but you have torch 1.7.0 which is incompatible.\u001b[0m\u001b[31m\n",
            "\u001b[0mSuccessfully installed dataclasses-0.6 torch-1.7.0\n"
          ]
        }
      ]
    },
    {
      "cell_type": "code",
      "source": [
        "plot_history(model_lstm)"
      ],
      "metadata": {
        "colab": {
          "base_uri": "https://localhost:8080/",
          "height": 336
        },
        "id": "hdHb6PXobAZJ",
        "outputId": "789fede9-e904-498d-b710-a551b6ea8de2"
      },
      "execution_count": null,
      "outputs": [
        {
          "output_type": "display_data",
          "data": {
            "text/plain": [
              "<Figure size 864x360 with 2 Axes>"
            ],
            "image/png": "[encoded data removed]"
          },
          "metadata": {
            "needs_background": "light"
          }
        }
      ]
    },
    {
      "cell_type": "code",
      "source": [
        "input_data = [torch.from_numpy(x) for x in test_pad]\n",
        "input_data = torch.LongTensor(input_data)\n",
        "\n",
        "# test_pad_t = torch.LongTensor(input_data)\n",
        "inputs = input_data.to(device) # You can move your input to gpu, torch defaults to cpu\n",
        "\n",
        "# Run forward pass\n",
        "with torch.no_grad():\n",
        "  pred = model.predict(inputs)\n",
        "\n",
        "# Do something with pred\n",
        "pred = pred.detach().cpu().numpy()\n",
        "pred"
      ],
      "metadata": {
        "id": "Y2aClEKeDMbN"
      },
      "execution_count": null,
      "outputs": []
    },
    {
      "cell_type": "markdown",
      "source": [
        "#ProCNN"
      ],
      "metadata": {
        "id": "0rQooo-sSbMD"
      }
    },
    {
      "cell_type": "code",
      "source": [
        "import os\n",
        "import gc\n",
        "\n",
        "import numpy as np\n",
        "import pandas as pd\n",
        "import matplotlib.pyplot as plt\n",
        "import seaborn as sns\n",
        "\n",
        "from collections import Counter\n",
        "from prettytable import PrettyTable\n",
        "from IPython.display import Image\n",
        "\n",
        "from sklearn.preprocessing import LabelEncoder\n",
        "\n",
        "from keras.models import Model\n",
        "from keras.regularizers import l2\n",
        "from keras.constraints import max_norm\n",
        "from keras.utils import to_categorical\n",
        "from keras.preprocessing.text import Tokenizer\n",
        "from keras_preprocessing.sequence import pad_sequences\n",
        "from keras.callbacks import EarlyStopping\n",
        "from keras.layers import Input, Dense, Dropout, Flatten, Activation\n",
        "from keras.layers import Conv1D, Add, MaxPooling1D, BatchNormalization\n",
        "from keras.layers import Embedding, Bidirectional, CuDNNLSTM, GlobalMaxPooling1D"
      ],
      "metadata": {
        "id": "UIrKa1bWTHMg"
      },
      "execution_count": null,
      "outputs": []
    },
    {
      "cell_type": "code",
      "source": [
        "def residual_block(data, filters, d_rate):\n",
        "  \"\"\"\n",
        "  _data: input\n",
        "  _filters: convolution filters\n",
        "  _d_rate: dilation rate\n",
        "  \"\"\"\n",
        "\n",
        "  shortcut = data\n",
        "\n",
        "  bn1 = BatchNormalization()(data)\n",
        "  act1 = Activation('relu')(bn1)\n",
        "  conv1 = Conv1D(filters, 1, dilation_rate=d_rate, padding='same', kernel_regularizer=l2(0.001))(act1)\n",
        "\n",
        "  #bottleneck convolution\n",
        "  bn2 = BatchNormalization()(conv1)\n",
        "  act2 = Activation('relu')(bn2)\n",
        "  conv2 = Conv1D(filters, 3, padding='same', kernel_regularizer=l2(0.001))(act2)\n",
        "\n",
        "  #skip connection\n",
        "  x = Add()([conv2, shortcut])\n",
        "\n",
        "  return x"
      ],
      "metadata": {
        "id": "DOnGXdZoSdGQ"
      },
      "execution_count": null,
      "outputs": []
    },
    {
      "cell_type": "code",
      "source": [
        "# model\n",
        "\n",
        "x_input = Input(shape=(512, 22))\n",
        "\n",
        "#initial conv\n",
        "conv = Conv1D(128, 1, padding='same')(x_input) \n",
        "\n",
        "# per-residue representation\n",
        "res1 = residual_block(conv, 128, 2)\n",
        "res2 = residual_block(res1, 128, 3)\n",
        "\n",
        "x = MaxPooling1D(3)(res2)\n",
        "x = Dropout(0.5)(x)\n",
        "\n",
        "# softmax classifier\n",
        "x = Flatten()(x)\n",
        "x_output = Dense(1000, activation='softmax', kernel_regularizer=l2(0.0001))(x)\n",
        "\n",
        "model2 = Model(inputs=x_input, outputs=x_output)\n",
        "model2.compile(optimizer='adam', loss='sparse_categorical_crossentropy', metrics=['accuracy'])\n",
        "\n",
        "model2.summary()"
      ],
      "metadata": {
        "colab": {
          "base_uri": "https://localhost:8080/"
        },
        "id": "oaFqWpI5S-7Z",
        "outputId": "84f861c5-6f9e-4e78-85e1-98eecfaec48f"
      },
      "execution_count": null,
      "outputs": [
        {
          "output_type": "stream",
          "name": "stdout",
          "text": [
            "Model: \"model_6\"\n",
            "__________________________________________________________________________________________________\n",
            " Layer (type)                   Output Shape         Param #     Connected to                     \n",
            "==================================================================================================\n",
            " input_7 (InputLayer)           [(None, 512, 22)]    0           []                               \n",
            "                                                                                                  \n",
            " conv1d_30 (Conv1D)             (None, 512, 128)     2944        ['input_7[0][0]']                \n",
            "                                                                                                  \n",
            " batch_normalization_24 (BatchN  (None, 512, 128)    512         ['conv1d_30[0][0]']              \n",
            " ormalization)                                                                                    \n",
            "                                                                                                  \n",
            " activation_24 (Activation)     (None, 512, 128)     0           ['batch_normalization_24[0][0]'] \n",
            "                                                                                                  \n",
            " conv1d_31 (Conv1D)             (None, 512, 128)     16512       ['activation_24[0][0]']          \n",
            "                                                                                                  \n",
            " batch_normalization_25 (BatchN  (None, 512, 128)    512         ['conv1d_31[0][0]']              \n",
            " ormalization)                                                                                    \n",
            "                                                                                                  \n",
            " activation_25 (Activation)     (None, 512, 128)     0           ['batch_normalization_25[0][0]'] \n",
            "                                                                                                  \n",
            " conv1d_32 (Conv1D)             (None, 512, 128)     49280       ['activation_25[0][0]']          \n",
            "                                                                                                  \n",
            " add_12 (Add)                   (None, 512, 128)     0           ['conv1d_32[0][0]',              \n",
            "                                                                  'conv1d_30[0][0]']              \n",
            "                                                                                                  \n",
            " batch_normalization_26 (BatchN  (None, 512, 128)    512         ['add_12[0][0]']                 \n",
            " ormalization)                                                                                    \n",
            "                                                                                                  \n",
            " activation_26 (Activation)     (None, 512, 128)     0           ['batch_normalization_26[0][0]'] \n",
            "                                                                                                  \n",
            " conv1d_33 (Conv1D)             (None, 512, 128)     16512       ['activation_26[0][0]']          \n",
            "                                                                                                  \n",
            " batch_normalization_27 (BatchN  (None, 512, 128)    512         ['conv1d_33[0][0]']              \n",
            " ormalization)                                                                                    \n",
            "                                                                                                  \n",
            " activation_27 (Activation)     (None, 512, 128)     0           ['batch_normalization_27[0][0]'] \n",
            "                                                                                                  \n",
            " conv1d_34 (Conv1D)             (None, 512, 128)     49280       ['activation_27[0][0]']          \n",
            "                                                                                                  \n",
            " add_13 (Add)                   (None, 512, 128)     0           ['conv1d_34[0][0]',              \n",
            "                                                                  'add_12[0][0]']                 \n",
            "                                                                                                  \n",
            " max_pooling1d_6 (MaxPooling1D)  (None, 170, 128)    0           ['add_13[0][0]']                 \n",
            "                                                                                                  \n",
            " dropout_6 (Dropout)            (None, 170, 128)     0           ['max_pooling1d_6[0][0]']        \n",
            "                                                                                                  \n",
            " flatten_6 (Flatten)            (None, 21760)        0           ['dropout_6[0][0]']              \n",
            "                                                                                                  \n",
            " dense_10 (Dense)               (None, 1000)         21761000    ['flatten_6[0][0]']              \n",
            "                                                                                                  \n",
            "==================================================================================================\n",
            "Total params: 21,897,576\n",
            "Trainable params: 21,896,552\n",
            "Non-trainable params: 1,024\n",
            "__________________________________________________________________________________________________\n"
          ]
        }
      ]
    },
    {
      "cell_type": "code",
      "source": [
        "# Early Stopping\n",
        "es = EarlyStopping(monitor='val_loss', patience=10, verbose=1)"
      ],
      "metadata": {
        "id": "EJiySNv1TXyO"
      },
      "execution_count": null,
      "outputs": []
    },
    {
      "cell_type": "code",
      "source": [
        "history2 = model2.fit(\n",
        "    train_ohe, y_train_,\n",
        "    epochs=40, batch_size=256,\n",
        "    validation_data=(val_ohe, y_val) #callbacks=[es]\n",
        "    )"
      ],
      "metadata": {
        "colab": {
          "base_uri": "https://localhost:8080/"
        },
        "id": "ITeugVCuThoG",
        "outputId": "6e14a986-b385-46ae-e136-bea897fcde73"
      },
      "execution_count": null,
      "outputs": [
        {
          "output_type": "stream",
          "name": "stdout",
          "text": [
            "Epoch 1/40\n",
            "18/18 [==============================] - 2s 131ms/step - loss: 0.4349 - accuracy: 0.9752 - val_loss: 10.4811 - val_accuracy: 0.4335\n",
            "Epoch 2/40\n",
            "18/18 [==============================] - 2s 123ms/step - loss: 0.4833 - accuracy: 0.9682 - val_loss: 10.6389 - val_accuracy: 0.4049\n",
            "Epoch 3/40\n",
            "18/18 [==============================] - 2s 123ms/step - loss: 0.4448 - accuracy: 0.9691 - val_loss: 10.3466 - val_accuracy: 0.3947\n",
            "Epoch 4/40\n",
            "18/18 [==============================] - 2s 124ms/step - loss: 0.4179 - accuracy: 0.9725 - val_loss: 10.8482 - val_accuracy: 0.3906\n",
            "Epoch 5/40\n",
            "18/18 [==============================] - 2s 128ms/step - loss: 0.4380 - accuracy: 0.9661 - val_loss: 10.9355 - val_accuracy: 0.3988\n",
            "Epoch 6/40\n",
            "18/18 [==============================] - 2s 123ms/step - loss: 0.4332 - accuracy: 0.9716 - val_loss: 10.6093 - val_accuracy: 0.3926\n",
            "Epoch 7/40\n",
            "18/18 [==============================] - 2s 131ms/step - loss: 0.4000 - accuracy: 0.9795 - val_loss: 10.8017 - val_accuracy: 0.3947\n",
            "Epoch 8/40\n",
            "18/18 [==============================] - 2s 127ms/step - loss: 0.3895 - accuracy: 0.9770 - val_loss: 11.3598 - val_accuracy: 0.3967\n",
            "Epoch 9/40\n",
            "18/18 [==============================] - 2s 124ms/step - loss: 0.4100 - accuracy: 0.9779 - val_loss: 10.4734 - val_accuracy: 0.4131\n",
            "Epoch 10/40\n",
            "18/18 [==============================] - 2s 125ms/step - loss: 0.4091 - accuracy: 0.9750 - val_loss: 11.4480 - val_accuracy: 0.3885\n",
            "Epoch 11/40\n",
            "18/18 [==============================] - 2s 125ms/step - loss: 0.4659 - accuracy: 0.9670 - val_loss: 11.2198 - val_accuracy: 0.3926\n",
            "Epoch 12/40\n",
            "18/18 [==============================] - 2s 126ms/step - loss: 0.4022 - accuracy: 0.9748 - val_loss: 11.1878 - val_accuracy: 0.3885\n",
            "Epoch 13/40\n",
            "18/18 [==============================] - 2s 131ms/step - loss: 0.3843 - accuracy: 0.9814 - val_loss: 12.5748 - val_accuracy: 0.3742\n",
            "Epoch 14/40\n",
            "18/18 [==============================] - 2s 129ms/step - loss: 0.4250 - accuracy: 0.9770 - val_loss: 11.6233 - val_accuracy: 0.3763\n",
            "Epoch 15/40\n",
            "18/18 [==============================] - 2s 126ms/step - loss: 0.4113 - accuracy: 0.9750 - val_loss: 10.9427 - val_accuracy: 0.4029\n",
            "Epoch 16/40\n",
            "18/18 [==============================] - 2s 129ms/step - loss: 0.3783 - accuracy: 0.9823 - val_loss: 11.5441 - val_accuracy: 0.3926\n",
            "Epoch 17/40\n",
            "18/18 [==============================] - 2s 126ms/step - loss: 0.4379 - accuracy: 0.9736 - val_loss: 11.2330 - val_accuracy: 0.4070\n",
            "Epoch 18/40\n",
            "18/18 [==============================] - 2s 125ms/step - loss: 0.3629 - accuracy: 0.9823 - val_loss: 11.4332 - val_accuracy: 0.4090\n",
            "Epoch 19/40\n",
            "18/18 [==============================] - 2s 125ms/step - loss: 0.4106 - accuracy: 0.9759 - val_loss: 11.2230 - val_accuracy: 0.4008\n",
            "Epoch 20/40\n",
            "18/18 [==============================] - 2s 125ms/step - loss: 0.3653 - accuracy: 0.9836 - val_loss: 10.8752 - val_accuracy: 0.3906\n",
            "Epoch 21/40\n",
            "18/18 [==============================] - 2s 125ms/step - loss: 0.3721 - accuracy: 0.9823 - val_loss: 11.0074 - val_accuracy: 0.4254\n",
            "Epoch 22/40\n",
            "18/18 [==============================] - 2s 128ms/step - loss: 0.3447 - accuracy: 0.9864 - val_loss: 10.7468 - val_accuracy: 0.4131\n",
            "Epoch 23/40\n",
            "18/18 [==============================] - 2s 124ms/step - loss: 0.3579 - accuracy: 0.9841 - val_loss: 10.4955 - val_accuracy: 0.4090\n",
            "Epoch 24/40\n",
            "18/18 [==============================] - 2s 124ms/step - loss: 0.3483 - accuracy: 0.9855 - val_loss: 11.3992 - val_accuracy: 0.4233\n",
            "Epoch 25/40\n",
            "18/18 [==============================] - 2s 123ms/step - loss: 0.3593 - accuracy: 0.9820 - val_loss: 11.3680 - val_accuracy: 0.4213\n",
            "Epoch 26/40\n",
            "18/18 [==============================] - 2s 128ms/step - loss: 0.3526 - accuracy: 0.9843 - val_loss: 10.4252 - val_accuracy: 0.4151\n",
            "Epoch 27/40\n",
            "18/18 [==============================] - 2s 123ms/step - loss: 0.3472 - accuracy: 0.9850 - val_loss: 10.9057 - val_accuracy: 0.4274\n",
            "Epoch 28/40\n",
            "18/18 [==============================] - 2s 124ms/step - loss: 0.3511 - accuracy: 0.9845 - val_loss: 10.6754 - val_accuracy: 0.4274\n",
            "Epoch 29/40\n",
            "18/18 [==============================] - 2s 128ms/step - loss: 0.3641 - accuracy: 0.9820 - val_loss: 10.7591 - val_accuracy: 0.4151\n",
            "Epoch 30/40\n",
            "18/18 [==============================] - 2s 123ms/step - loss: 0.3865 - accuracy: 0.9782 - val_loss: 11.0177 - val_accuracy: 0.4356\n",
            "Epoch 31/40\n",
            "18/18 [==============================] - 2s 124ms/step - loss: 0.3718 - accuracy: 0.9789 - val_loss: 11.4729 - val_accuracy: 0.4376\n",
            "Epoch 32/40\n",
            "18/18 [==============================] - 2s 128ms/step - loss: 0.3719 - accuracy: 0.9798 - val_loss: 10.4221 - val_accuracy: 0.4172\n",
            "Epoch 33/40\n",
            "18/18 [==============================] - 2s 127ms/step - loss: 0.3735 - accuracy: 0.9820 - val_loss: 10.7064 - val_accuracy: 0.4233\n",
            "Epoch 34/40\n",
            "18/18 [==============================] - 2s 123ms/step - loss: 0.3671 - accuracy: 0.9798 - val_loss: 10.6074 - val_accuracy: 0.4254\n",
            "Epoch 35/40\n",
            "18/18 [==============================] - 2s 124ms/step - loss: 0.3520 - accuracy: 0.9839 - val_loss: 10.5658 - val_accuracy: 0.4070\n",
            "Epoch 36/40\n",
            "18/18 [==============================] - 2s 124ms/step - loss: 0.3921 - accuracy: 0.9734 - val_loss: 10.3490 - val_accuracy: 0.3824\n",
            "Epoch 37/40\n",
            "18/18 [==============================] - 2s 123ms/step - loss: 0.3976 - accuracy: 0.9768 - val_loss: 10.9292 - val_accuracy: 0.4254\n",
            "Epoch 38/40\n",
            "18/18 [==============================] - 2s 124ms/step - loss: 0.3946 - accuracy: 0.9757 - val_loss: 11.2221 - val_accuracy: 0.3926\n",
            "Epoch 39/40\n",
            "18/18 [==============================] - 2s 124ms/step - loss: 0.3948 - accuracy: 0.9766 - val_loss: 11.4126 - val_accuracy: 0.4151\n",
            "Epoch 40/40\n",
            "18/18 [==============================] - 2s 123ms/step - loss: 0.3866 - accuracy: 0.9789 - val_loss: 11.0072 - val_accuracy: 0.4172\n"
          ]
        }
      ]
    },
    {
      "cell_type": "code",
      "source": [
        "plot_history(history2)"
      ],
      "metadata": {
        "colab": {
          "base_uri": "https://localhost:8080/",
          "height": 336
        },
        "id": "F2RTRNtFVzY3",
        "outputId": "734e0e3c-b344-4865-e41d-69e1d3eef43a"
      },
      "execution_count": null,
      "outputs": [
        {
          "output_type": "display_data",
          "data": {
            "text/plain": [
              "<Figure size 864x360 with 2 Axes>"
            ],
            "image/png": "[encoded data removed]"
          },
          "metadata": {
            "needs_background": "light"
          }
        }
      ]
    }
  ]
}
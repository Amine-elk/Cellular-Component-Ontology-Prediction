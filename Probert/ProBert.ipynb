{
  "cells": [
    {
      "cell_type": "code",
      "execution_count": null,
      "metadata": {
        "colab": {
          "base_uri": "https://localhost:8080/"
        },
        "id": "9z7NgYMl8-cq",
        "outputId": "2ea0f6ba-732a-4028-85a3-7283eec7d8ac"
      },
      "outputs": [
        {
          "name": "stdout",
          "output_type": "stream",
          "text": [
            "Mounted at /content/drive/\n"
          ]
        }
      ],
      "source": [
        "from google.colab import drive\n",
        "drive.mount(\"/content/drive/\")"
      ]
    },
    {
      "cell_type": "code",
      "execution_count": null,
      "metadata": {
        "id": "l6r0WSK2_qHv"
      },
      "outputs": [],
      "source": [
        "import torch\n",
        "from torch import nn\n",
        "import torch.utils.data\n",
        "import torch.utils.data.distributed\n",
        "from torch.utils.data import Dataset, DataLoader, RandomSampler, TensorDataset\n",
        "\n",
        "class ProteinSequenceDataset(Dataset):\n",
        "    def __init__(self, sequence, targets, tokenizer, max_len):\n",
        "        self.sequence = sequence\n",
        "        self.targets = targets\n",
        "        self.tokenizer = tokenizer\n",
        "        self.max_len = max_len\n",
        "\n",
        "    def __len__(self):\n",
        "        return len(self.sequence)\n",
        "\n",
        "    def __getitem__(self, item):\n",
        "        sequence = str(self.sequence[item])\n",
        "        target = self.targets[item]\n",
        "        encoding = self.tokenizer.encode_plus(\n",
        "            sequence,\n",
        "            truncation=True,\n",
        "            add_special_tokens=True,\n",
        "            max_length=self.max_len,\n",
        "            return_token_type_ids=False,\n",
        "            padding='max_length',\n",
        "            return_attention_mask=True,\n",
        "            return_tensors='pt',\n",
        "        )\n",
        "        return {\n",
        "          'protein_sequence': sequence,\n",
        "          'input_ids': encoding['input_ids'].flatten(),\n",
        "          'attention_mask': encoding['attention_mask'].flatten(),\n",
        "          'targets': torch.tensor(target, dtype=torch.long)\n",
        "        }"
      ]
    },
    {
      "cell_type": "code",
      "execution_count": null,
      "metadata": {
        "colab": {
          "base_uri": "https://localhost:8080/"
        },
        "id": "NJf5ADv_AXLa",
        "outputId": "af978616-66b2-4f95-8a00-48f4f28859ae"
      },
      "outputs": [
        {
          "name": "stdout",
          "output_type": "stream",
          "text": [
            "Looking in indexes: https://pypi.org/simple, https://us-python.pkg.dev/colab-wheels/public/simple/\n",
            "Collecting transformers\n",
            "  Downloading transformers-4.25.1-py3-none-any.whl (5.8 MB)\n",
            "\u001b[2K     \u001b[90m━━━━━━━━━━━━━━━━━━━━━━━━━━━━━━━━━━━━━━━━\u001b[0m \u001b[32m5.8/5.8 MB\u001b[0m \u001b[31m57.3 MB/s\u001b[0m eta \u001b[36m0:00:00\u001b[0m\n",
            "\u001b[?25hRequirement already satisfied: filelock in /usr/local/lib/python3.8/dist-packages (from transformers) (3.9.0)\n",
            "Requirement already satisfied: regex!=2019.12.17 in /usr/local/lib/python3.8/dist-packages (from transformers) (2022.6.2)\n",
            "Collecting huggingface-hub<1.0,>=0.10.0\n",
            "  Downloading huggingface_hub-0.11.1-py3-none-any.whl (182 kB)\n",
            "\u001b[2K     \u001b[90m━━━━━━━━━━━━━━━━━━━━━━━━━━━━━━━━━━━━━━\u001b[0m \u001b[32m182.4/182.4 KB\u001b[0m \u001b[31m19.1 MB/s\u001b[0m eta \u001b[36m0:00:00\u001b[0m\n",
            "\u001b[?25hRequirement already satisfied: tqdm>=4.27 in /usr/local/lib/python3.8/dist-packages (from transformers) (4.64.1)\n",
            "Requirement already satisfied: packaging>=20.0 in /usr/local/lib/python3.8/dist-packages (from transformers) (21.3)\n",
            "Requirement already satisfied: numpy>=1.17 in /usr/local/lib/python3.8/dist-packages (from transformers) (1.21.6)\n",
            "Requirement already satisfied: pyyaml>=5.1 in /usr/local/lib/python3.8/dist-packages (from transformers) (6.0)\n",
            "Requirement already satisfied: requests in /usr/local/lib/python3.8/dist-packages (from transformers) (2.25.1)\n",
            "Collecting tokenizers!=0.11.3,<0.14,>=0.11.1\n",
            "  Downloading tokenizers-0.13.2-cp38-cp38-manylinux_2_17_x86_64.manylinux2014_x86_64.whl (7.6 MB)\n",
            "\u001b[2K     \u001b[90m━━━━━━━━━━━━━━━━━━━━━━━━━━━━━━━━━━━━━━━━\u001b[0m \u001b[32m7.6/7.6 MB\u001b[0m \u001b[31m56.6 MB/s\u001b[0m eta \u001b[36m0:00:00\u001b[0m\n",
            "\u001b[?25hRequirement already satisfied: typing-extensions>=3.7.4.3 in /usr/local/lib/python3.8/dist-packages (from huggingface-hub<1.0,>=0.10.0->transformers) (4.4.0)\n",
            "Requirement already satisfied: pyparsing!=3.0.5,>=2.0.2 in /usr/local/lib/python3.8/dist-packages (from packaging>=20.0->transformers) (3.0.9)\n",
            "Requirement already satisfied: certifi>=2017.4.17 in /usr/local/lib/python3.8/dist-packages (from requests->transformers) (2022.12.7)\n",
            "Requirement already satisfied: chardet<5,>=3.0.2 in /usr/local/lib/python3.8/dist-packages (from requests->transformers) (4.0.0)\n",
            "Requirement already satisfied: idna<3,>=2.5 in /usr/local/lib/python3.8/dist-packages (from requests->transformers) (2.10)\n",
            "Requirement already satisfied: urllib3<1.27,>=1.21.1 in /usr/local/lib/python3.8/dist-packages (from requests->transformers) (1.24.3)\n",
            "Installing collected packages: tokenizers, huggingface-hub, transformers\n",
            "Successfully installed huggingface-hub-0.11.1 tokenizers-0.13.2 transformers-4.25.1\n"
          ]
        }
      ],
      "source": [
        "pip install transformers"
      ]
    },
    {
      "cell_type": "code",
      "execution_count": null,
      "metadata": {
        "id": "8uQQbS6-9fyt"
      },
      "outputs": [],
      "source": [
        "from transformers import BertModel, BertTokenizer, AdamW, get_linear_schedule_with_warmup\n",
        "import torch\n",
        "import torch.nn.functional as F\n",
        "import torch.nn as nn\n",
        "\n",
        "\n",
        "PRE_TRAINED_MODEL_NAME = 'Rostlab/prot_bert_bfd_localization'\n",
        "class ProteinClassifier(nn.Module):\n",
        "    def __init__(self, n_classes):\n",
        "        super(ProteinClassifier, self).__init__()\n",
        "        self.bert = BertModel.from_pretrained(PRE_TRAINED_MODEL_NAME)\n",
        "        self.classifier = nn.Sequential(nn.Dropout(p=0.2),\n",
        "                                        nn.Linear(self.bert.config.hidden_size, n_classes),\n",
        "                                        nn.Tanh())\n",
        "        \n",
        "    def forward(self, input_ids, attention_mask):\n",
        "        output = self.bert(\n",
        "          input_ids=input_ids,\n",
        "          attention_mask=attention_mask\n",
        "        )\n",
        "        return self.classifier(output.pooler_output)"
      ]
    },
    {
      "cell_type": "code",
      "execution_count": null,
      "metadata": {
        "colab": {
          "base_uri": "https://localhost:8080/"
        },
        "id": "he-cvJOzAlhI",
        "outputId": "27ea809e-51be-407a-ad6e-040cbf2168c8"
      },
      "outputs": [
        {
          "name": "stdout",
          "output_type": "stream",
          "text": [
            "Looking in indexes: https://pypi.org/simple, https://us-python.pkg.dev/colab-wheels/public/simple/\n",
            "Collecting torch_optimizer\n",
            "  Downloading torch_optimizer-0.3.0-py3-none-any.whl (61 kB)\n",
            "\u001b[2K     \u001b[90m━━━━━━━━━━━━━━━━━━━━━━━━━━━━━━━━━━━━━━━━\u001b[0m \u001b[32m61.9/61.9 KB\u001b[0m \u001b[31m3.9 MB/s\u001b[0m eta \u001b[36m0:00:00\u001b[0m\n",
            "\u001b[?25hCollecting pytorch-ranger>=0.1.1\n",
            "  Downloading pytorch_ranger-0.1.1-py3-none-any.whl (14 kB)\n",
            "Requirement already satisfied: torch>=1.5.0 in /usr/local/lib/python3.8/dist-packages (from torch_optimizer) (1.13.1+cu116)\n",
            "Requirement already satisfied: typing-extensions in /usr/local/lib/python3.8/dist-packages (from torch>=1.5.0->torch_optimizer) (4.4.0)\n",
            "Installing collected packages: pytorch-ranger, torch_optimizer\n",
            "Successfully installed pytorch-ranger-0.1.1 torch_optimizer-0.3.0\n"
          ]
        }
      ],
      "source": [
        "pip install torch_optimizer"
      ]
    },
    {
      "cell_type": "code",
      "execution_count": null,
      "metadata": {
        "colab": {
          "base_uri": "https://localhost:8080/",
          "height": 1000,
          "referenced_widgets": [
            "d18c1a4dbeda43da8a5ddffddeee3e79",
            "66c087380ba44e278b6eb505ad82ce2a",
            "013b33f4946245e095956339310bedf3",
            "d17ad47d2cf7476d8497308dd02d69b5",
            "3b791504667046fab3ead4a09741838e",
            "b8842940a8a7469caebfbed81947c35a",
            "90db6ad634dd4de5b2c8295ee8f46cff",
            "2f9433382ba44897bfc2fb8de9b37121",
            "2170f7dcdf05451da476ee52adb7344b",
            "e0bacc758bea444999f30465859b03e0",
            "9e68dea51f654314b15a3e8e735163d0",
            "d783b6461b954cd7987246dbbcc8b3b3",
            "4547a57974a3474fbbee02d5d6a410c5",
            "23ab077c98ba4d5390ad4fc779c7d5ec",
            "47996f2e583146b998ca65c9a489917f",
            "302a58a670c94d42b068de0457aee66a",
            "ff2cd007123b4bd7b72880efc7e4610c",
            "a0d3a099614c40a38bc189acfaffc3ec",
            "93a68fa83caa4fe4940761c2663e15fb",
            "e283a4482ea44cb9807c604394086363",
            "8d999a7e78654739a520a793df21bba1",
            "50190ee3725c44ac9cb6b097962cc4fe",
            "ffdda77ecd0643af8b7d3a7a60e0cc3f",
            "e9aa1a37c1404cdba6685afb8ef3f3cd",
            "f0f49c6231e54fc3b56b3fbbc2ba6de6",
            "9317d95ba3e24eec851780341f12fb8e",
            "433c44c68d4944edb9bcc8b56c51f814",
            "363c3678b37b44f1bf44488818efee99",
            "27423c24259940eeae6ade46b92d3538",
            "63ff3a2d5aec424b8ff9992c2a452840",
            "36950f9b646e44bca7bb2cf2a570c95a",
            "4c1db1a136c846a1a4298c1abe0166ed",
            "0ae6f7d4106947d596208a0bf4296c02",
            "ae998dc6314d471887bb7b6628b2e7c8",
            "a1002f7d7aa2453a9e5794f4f1a16716",
            "3b8d8e74fcbf49deb01a2aa79c996896",
            "d29830e5ad4748d9882cec4c5de9b304",
            "9c27dc0d891a43c9ac0a1c53dd4637a8",
            "4fb0c43f7c994fc69dee65657deb76d0",
            "365dc350c9ae4481b0e9ff195771edad",
            "946c0ba80da140b4803be23996ece277",
            "d66cbb7294124af6844c6c0eff4ac66b",
            "0c8eac5d604b4adcbe5b6f41de700079",
            "32ad3c8750c9451ebcbf1a3880474d70",
            "080f1609e5a3487abfdf556ecef507dd",
            "b84c4ca7f7aa46bdb5646d6c31eea7ac",
            "0d648a9586774ec291af7d4d2c6bf6fb",
            "a2e231dceb904ad097c140dd000fd831",
            "090e45466c684d5b9b7614724e3d29b5",
            "27c38712b0784c3196e3c0b198ca5cc6",
            "90ce260616484f32a174cd1fdcbdb323",
            "b3f72d0146bb41018e5b85250e105367",
            "8ca60840af2047b0bb6888803d3a6cd1",
            "d315440c4adb4ef08603868fe5961edf",
            "e1ad73699bda404c85f1ae68dfd543ad"
          ]
        },
        "id": "l89NLX8r9iXE",
        "outputId": "a3fbc7d4-3c5e-4610-ef27-b855ff37b460"
      },
      "outputs": [
        {
          "name": "stderr",
          "output_type": "stream",
          "text": [
            "No traceback available to show.\n"
          ]
        },
        {
          "data": {
            "application/vnd.jupyter.widget-view+json": {
              "model_id": "d18c1a4dbeda43da8a5ddffddeee3e79",
              "version_major": 2,
              "version_minor": 0
            },
            "text/plain": [
              "Downloading:   0%|          | 0.00/81.0 [00:00<?, ?B/s]"
            ]
          },
          "metadata": {},
          "output_type": "display_data"
        },
        {
          "data": {
            "application/vnd.jupyter.widget-view+json": {
              "model_id": "d783b6461b954cd7987246dbbcc8b3b3",
              "version_major": 2,
              "version_minor": 0
            },
            "text/plain": [
              "Downloading:   0%|          | 0.00/112 [00:00<?, ?B/s]"
            ]
          },
          "metadata": {},
          "output_type": "display_data"
        },
        {
          "data": {
            "application/vnd.jupyter.widget-view+json": {
              "model_id": "ffdda77ecd0643af8b7d3a7a60e0cc3f",
              "version_major": 2,
              "version_minor": 0
            },
            "text/plain": [
              "Downloading:   0%|          | 0.00/86.0 [00:00<?, ?B/s]"
            ]
          },
          "metadata": {},
          "output_type": "display_data"
        },
        {
          "data": {
            "application/vnd.jupyter.widget-view+json": {
              "model_id": "ae998dc6314d471887bb7b6628b2e7c8",
              "version_major": 2,
              "version_minor": 0
            },
            "text/plain": [
              "Downloading:   0%|          | 0.00/361 [00:00<?, ?B/s]"
            ]
          },
          "metadata": {},
          "output_type": "display_data"
        },
        {
          "name": "stdout",
          "output_type": "stream",
          "text": [
            "/content/drive/MyDrive/Challenge/sequences.txt\n",
            "Max length of sequence:  512\n",
            "Freezing 30 layers\n",
            "Model used:  Rostlab/prot_bert\n"
          ]
        },
        {
          "data": {
            "application/vnd.jupyter.widget-view+json": {
              "model_id": "080f1609e5a3487abfdf556ecef507dd",
              "version_major": 2,
              "version_minor": 0
            },
            "text/plain": [
              "Downloading:   0%|          | 0.00/1.68G [00:00<?, ?B/s]"
            ]
          },
          "metadata": {},
          "output_type": "display_data"
        },
        {
          "name": "stderr",
          "output_type": "stream",
          "text": [
            "Some weights of the model checkpoint at Rostlab/prot_bert were not used when initializing BertModel: ['cls.predictions.transform.LayerNorm.bias', 'cls.predictions.decoder.bias', 'cls.predictions.transform.dense.bias', 'cls.seq_relationship.bias', 'cls.predictions.transform.LayerNorm.weight', 'cls.predictions.bias', 'cls.predictions.transform.dense.weight', 'cls.seq_relationship.weight', 'cls.predictions.decoder.weight']\n",
            "- This IS expected if you are initializing BertModel from the checkpoint of a model trained on another task or with another architecture (e.g. initializing a BertForSequenceClassification model from a BertForPreTraining model).\n",
            "- This IS NOT expected if you are initializing BertModel from the checkpoint of a model that you expect to be exactly identical (initializing a BertForSequenceClassification model from a BertForSequenceClassification model).\n"
          ]
        },
        {
          "name": "stdout",
          "output_type": "stream",
          "text": [
            "Collecting data from Master Node: \n",
            " Train Epoch: 1 [0/4888 (0%)] Training Loss: 2.917897\n"
          ]
        },
        {
          "name": "stderr",
          "output_type": "stream",
          "text": [
            "INFO:__main__:Collecting data from Master Node: \n",
            " Train Epoch: 1 [0/4888 (0%)] Training Loss: 2.917897\n"
          ]
        },
        {
          "name": "stdout",
          "output_type": "stream",
          "text": [
            "Collecting data from Master Node: \n",
            " Train Epoch: 1 [80/4888 (2%)] Training Loss: 2.918603\n"
          ]
        },
        {
          "name": "stderr",
          "output_type": "stream",
          "text": [
            "INFO:__main__:Collecting data from Master Node: \n",
            " Train Epoch: 1 [80/4888 (2%)] Training Loss: 2.918603\n"
          ]
        },
        {
          "name": "stdout",
          "output_type": "stream",
          "text": [
            "Collecting data from Master Node: \n",
            " Train Epoch: 1 [160/4888 (3%)] Training Loss: 2.906390\n"
          ]
        },
        {
          "name": "stderr",
          "output_type": "stream",
          "text": [
            "INFO:__main__:Collecting data from Master Node: \n",
            " Train Epoch: 1 [160/4888 (3%)] Training Loss: 2.906390\n"
          ]
        },
        {
          "name": "stdout",
          "output_type": "stream",
          "text": [
            "Collecting data from Master Node: \n",
            " Train Epoch: 1 [240/4888 (5%)] Training Loss: 2.899418\n"
          ]
        },
        {
          "name": "stderr",
          "output_type": "stream",
          "text": [
            "INFO:__main__:Collecting data from Master Node: \n",
            " Train Epoch: 1 [240/4888 (5%)] Training Loss: 2.899418\n"
          ]
        },
        {
          "name": "stdout",
          "output_type": "stream",
          "text": [
            "Collecting data from Master Node: \n",
            " Train Epoch: 1 [320/4888 (7%)] Training Loss: 2.971657\n"
          ]
        },
        {
          "name": "stderr",
          "output_type": "stream",
          "text": [
            "INFO:__main__:Collecting data from Master Node: \n",
            " Train Epoch: 1 [320/4888 (7%)] Training Loss: 2.971657\n"
          ]
        },
        {
          "name": "stdout",
          "output_type": "stream",
          "text": [
            "Collecting data from Master Node: \n",
            " Train Epoch: 1 [400/4888 (8%)] Training Loss: 2.906756\n"
          ]
        },
        {
          "name": "stderr",
          "output_type": "stream",
          "text": [
            "INFO:__main__:Collecting data from Master Node: \n",
            " Train Epoch: 1 [400/4888 (8%)] Training Loss: 2.906756\n"
          ]
        },
        {
          "name": "stdout",
          "output_type": "stream",
          "text": [
            "Collecting data from Master Node: \n",
            " Train Epoch: 1 [480/4888 (10%)] Training Loss: 2.918828\n"
          ]
        },
        {
          "name": "stderr",
          "output_type": "stream",
          "text": [
            "INFO:__main__:Collecting data from Master Node: \n",
            " Train Epoch: 1 [480/4888 (10%)] Training Loss: 2.918828\n"
          ]
        },
        {
          "name": "stdout",
          "output_type": "stream",
          "text": [
            "Collecting data from Master Node: \n",
            " Train Epoch: 1 [560/4888 (11%)] Training Loss: 2.938707\n"
          ]
        },
        {
          "name": "stderr",
          "output_type": "stream",
          "text": [
            "INFO:__main__:Collecting data from Master Node: \n",
            " Train Epoch: 1 [560/4888 (11%)] Training Loss: 2.938707\n"
          ]
        },
        {
          "name": "stdout",
          "output_type": "stream",
          "text": [
            "Collecting data from Master Node: \n",
            " Train Epoch: 1 [640/4888 (13%)] Training Loss: 2.873007\n"
          ]
        },
        {
          "name": "stderr",
          "output_type": "stream",
          "text": [
            "INFO:__main__:Collecting data from Master Node: \n",
            " Train Epoch: 1 [640/4888 (13%)] Training Loss: 2.873007\n"
          ]
        },
        {
          "name": "stdout",
          "output_type": "stream",
          "text": [
            "Collecting data from Master Node: \n",
            " Train Epoch: 1 [720/4888 (15%)] Training Loss: 2.897303\n"
          ]
        },
        {
          "name": "stderr",
          "output_type": "stream",
          "text": [
            "INFO:__main__:Collecting data from Master Node: \n",
            " Train Epoch: 1 [720/4888 (15%)] Training Loss: 2.897303\n"
          ]
        },
        {
          "name": "stdout",
          "output_type": "stream",
          "text": [
            "Collecting data from Master Node: \n",
            " Train Epoch: 1 [800/4888 (16%)] Training Loss: 2.820266\n"
          ]
        },
        {
          "name": "stderr",
          "output_type": "stream",
          "text": [
            "INFO:__main__:Collecting data from Master Node: \n",
            " Train Epoch: 1 [800/4888 (16%)] Training Loss: 2.820266\n"
          ]
        },
        {
          "name": "stdout",
          "output_type": "stream",
          "text": [
            "Collecting data from Master Node: \n",
            " Train Epoch: 1 [880/4888 (18%)] Training Loss: 2.996130\n"
          ]
        },
        {
          "name": "stderr",
          "output_type": "stream",
          "text": [
            "INFO:__main__:Collecting data from Master Node: \n",
            " Train Epoch: 1 [880/4888 (18%)] Training Loss: 2.996130\n"
          ]
        },
        {
          "name": "stdout",
          "output_type": "stream",
          "text": [
            "Collecting data from Master Node: \n",
            " Train Epoch: 1 [960/4888 (20%)] Training Loss: 2.910833\n"
          ]
        },
        {
          "name": "stderr",
          "output_type": "stream",
          "text": [
            "INFO:__main__:Collecting data from Master Node: \n",
            " Train Epoch: 1 [960/4888 (20%)] Training Loss: 2.910833\n"
          ]
        },
        {
          "name": "stdout",
          "output_type": "stream",
          "text": [
            "Collecting data from Master Node: \n",
            " Train Epoch: 1 [1040/4888 (21%)] Training Loss: 2.908405\n"
          ]
        },
        {
          "name": "stderr",
          "output_type": "stream",
          "text": [
            "INFO:__main__:Collecting data from Master Node: \n",
            " Train Epoch: 1 [1040/4888 (21%)] Training Loss: 2.908405\n"
          ]
        },
        {
          "name": "stdout",
          "output_type": "stream",
          "text": [
            "Collecting data from Master Node: \n",
            " Train Epoch: 1 [1120/4888 (23%)] Training Loss: 2.817152\n"
          ]
        },
        {
          "name": "stderr",
          "output_type": "stream",
          "text": [
            "INFO:__main__:Collecting data from Master Node: \n",
            " Train Epoch: 1 [1120/4888 (23%)] Training Loss: 2.817152\n"
          ]
        },
        {
          "name": "stdout",
          "output_type": "stream",
          "text": [
            "Collecting data from Master Node: \n",
            " Train Epoch: 1 [1200/4888 (25%)] Training Loss: 2.943753\n"
          ]
        },
        {
          "name": "stderr",
          "output_type": "stream",
          "text": [
            "INFO:__main__:Collecting data from Master Node: \n",
            " Train Epoch: 1 [1200/4888 (25%)] Training Loss: 2.943753\n"
          ]
        },
        {
          "name": "stdout",
          "output_type": "stream",
          "text": [
            "Collecting data from Master Node: \n",
            " Train Epoch: 1 [1280/4888 (26%)] Training Loss: 2.913832\n"
          ]
        },
        {
          "name": "stderr",
          "output_type": "stream",
          "text": [
            "INFO:__main__:Collecting data from Master Node: \n",
            " Train Epoch: 1 [1280/4888 (26%)] Training Loss: 2.913832\n"
          ]
        },
        {
          "name": "stdout",
          "output_type": "stream",
          "text": [
            "Collecting data from Master Node: \n",
            " Train Epoch: 1 [1360/4888 (28%)] Training Loss: 2.934558\n"
          ]
        },
        {
          "name": "stderr",
          "output_type": "stream",
          "text": [
            "INFO:__main__:Collecting data from Master Node: \n",
            " Train Epoch: 1 [1360/4888 (28%)] Training Loss: 2.934558\n"
          ]
        },
        {
          "name": "stdout",
          "output_type": "stream",
          "text": [
            "Collecting data from Master Node: \n",
            " Train Epoch: 1 [1440/4888 (29%)] Training Loss: 2.905506\n"
          ]
        },
        {
          "name": "stderr",
          "output_type": "stream",
          "text": [
            "INFO:__main__:Collecting data from Master Node: \n",
            " Train Epoch: 1 [1440/4888 (29%)] Training Loss: 2.905506\n"
          ]
        },
        {
          "name": "stdout",
          "output_type": "stream",
          "text": [
            "Collecting data from Master Node: \n",
            " Train Epoch: 1 [1520/4888 (31%)] Training Loss: 2.927138\n"
          ]
        },
        {
          "name": "stderr",
          "output_type": "stream",
          "text": [
            "INFO:__main__:Collecting data from Master Node: \n",
            " Train Epoch: 1 [1520/4888 (31%)] Training Loss: 2.927138\n"
          ]
        },
        {
          "name": "stdout",
          "output_type": "stream",
          "text": [
            "Collecting data from Master Node: \n",
            " Train Epoch: 1 [1600/4888 (33%)] Training Loss: 2.935946\n"
          ]
        },
        {
          "name": "stderr",
          "output_type": "stream",
          "text": [
            "INFO:__main__:Collecting data from Master Node: \n",
            " Train Epoch: 1 [1600/4888 (33%)] Training Loss: 2.935946\n"
          ]
        },
        {
          "name": "stdout",
          "output_type": "stream",
          "text": [
            "Collecting data from Master Node: \n",
            " Train Epoch: 1 [1680/4888 (34%)] Training Loss: 2.852129\n"
          ]
        },
        {
          "name": "stderr",
          "output_type": "stream",
          "text": [
            "INFO:__main__:Collecting data from Master Node: \n",
            " Train Epoch: 1 [1680/4888 (34%)] Training Loss: 2.852129\n"
          ]
        },
        {
          "name": "stdout",
          "output_type": "stream",
          "text": [
            "Collecting data from Master Node: \n",
            " Train Epoch: 1 [1760/4888 (36%)] Training Loss: 2.895230\n"
          ]
        },
        {
          "name": "stderr",
          "output_type": "stream",
          "text": [
            "INFO:__main__:Collecting data from Master Node: \n",
            " Train Epoch: 1 [1760/4888 (36%)] Training Loss: 2.895230\n"
          ]
        }
      ],
      "source": [
        "%tb\n",
        "from __future__ import print_function\n",
        "\n",
        "import argparse\n",
        "import json\n",
        "import logging\n",
        "import os\n",
        "import sys\n",
        "\n",
        "import numpy as np\n",
        "import pandas as pd\n",
        "import torch\n",
        "from torch import nn\n",
        "import torch.utils.data\n",
        "import torch.utils.data.distributed\n",
        "from torch.utils.data import Dataset, DataLoader, RandomSampler, TensorDataset\n",
        "from transformers import BertTokenizer, get_linear_schedule_with_warmup\n",
        "import torch_optimizer as optim\n",
        "\n",
        "# Network definition\n",
        "# from model_def import ProteinClassifier\n",
        "# from data_prep import ProteinSequenceDataset\n",
        " \n",
        "## SageMaker Distributed code.\n",
        "# from smdistributed.dataparallel.torch.parallel.distributed import DistributedDataParallel as DDP\n",
        "# import smdistributed.dataparallel.torch.distributed as dist\n",
        "\n",
        "# dist.init_process_group()\n",
        "\n",
        "logger = logging.getLogger(__name__)\n",
        "logger.setLevel(logging.DEBUG)\n",
        "logger.addHandler(logging.StreamHandler(sys.stdout))\n",
        "\n",
        "MAX_LEN = 512  # this is the max length of the sequence\n",
        "PRE_TRAINED_MODEL_NAME = 'Rostlab/prot_bert'\n",
        "tokenizer = BertTokenizer.from_pretrained(PRE_TRAINED_MODEL_NAME, do_lower_case=False)\n",
        "\n",
        "def _get_train_data_loader(batch_size, training_dir):\n",
        "\n",
        "    # Read sequences\n",
        "    sequences = list()\n",
        "    print(training_dir+'sequences.txt')\n",
        "    with open(training_dir+'sequences.txt', 'r') as f:\n",
        "        for line in f:\n",
        "            sequences.append(line[:-1])\n",
        "\n",
        "    # Split data into training and test sets\n",
        "    sequences_train = list()\n",
        "    sequences_test = list()\n",
        "    proteins_test = list()\n",
        "    y_train = list()\n",
        "    with open(training_dir+'graph_labels.txt', 'r') as f:\n",
        "        for i,line in enumerate(f):\n",
        "            t = line.split(',')\n",
        "            if len(t[1][:-1]) == 0:\n",
        "                proteins_test.append(t[0])\n",
        "                sequences_test.append(sequences[i])\n",
        "            else:\n",
        "                sequences_train.append(sequences[i])\n",
        "                y_train.append(int(t[1][:-1]))\n",
        "    sequences_train = np.array(sequences_train)\n",
        "    y_train = np.array(y_train)\n",
        "\n",
        "    train_data = ProteinSequenceDataset(\n",
        "        sequence=sequences_train,\n",
        "        targets=y_train,\n",
        "        tokenizer=tokenizer,\n",
        "        max_len=MAX_LEN\n",
        "  )\n",
        "    # train_sampler = torch.utils.data.distributed.DistributedSampler(\n",
        "    #         dataset,\n",
        "    #         num_replicas=dist.get_world_size(),\n",
        "    #         rank=dist.get_rank())\n",
        "    train_dataloader = DataLoader(train_data, batch_size=batch_size, shuffle=False, num_workers=0, pin_memory=True)\n",
        "    return train_dataloader\n",
        "\n",
        "def _get_test_data_loader(batch_size, training_dir):\n",
        "        # Read sequences\n",
        "    sequences = list()\n",
        "    with open(training_dir+'sequences.txt', 'r') as f:\n",
        "        for line in f:\n",
        "            sequences.append(line[:-1])\n",
        "\n",
        "    # Split data into training and test sets\n",
        "    sequences_train = list()\n",
        "    sequences_test = list()\n",
        "    proteins_test = list()\n",
        "    y_train = list()\n",
        "    with open(training_dir+'graph_labels.txt', 'r') as f:\n",
        "        for i,line in enumerate(f):\n",
        "            t = line.split(',')\n",
        "            if len(t[1][:-1]) == 0:\n",
        "                proteins_test.append(t[0])\n",
        "                sequences_test.append(sequences[i])\n",
        "            else:\n",
        "                sequences_train.append(sequences[i])\n",
        "                y_train.append(int(t[1][:-1]))\n",
        "    sequences_test = np.array(sequences_test)\n",
        "    proteins_test = np.array(proteins_test)\n",
        "\n",
        "    test_data = ProteinSequenceDataset(\n",
        "        sequence=sequences_test,\n",
        "        targets=proteins_test,\n",
        "        tokenizer=tokenizer,\n",
        "        max_len=MAX_LEN\n",
        "  )\n",
        "    # test_sampler = RandomSampler(test_data)\n",
        "    test_dataloader = DataLoader(test_data, batch_size=batch_size)\n",
        "    return test_dataloader\n",
        "\n",
        "def freeze(model, frozen_layers):\n",
        "    modules = [model.bert.encoder.layer[:]] #frozen_layers\n",
        "    for module in modules:\n",
        "        for param in module.parameters():\n",
        "            param.requires_grad = False\n",
        "            \n",
        "def train(batch_size,data_dir,test_batch_size,test,frozen_layers,num_labels, lr, epsilon, weight_decay, epochs, log_interval, verbose, model_dir):\n",
        "    #use_cuda = args.num_gpus > 0\n",
        "    device = torch.device(\"cuda\" if torch.cuda.is_available() else \"cpu\")\n",
        "    \n",
        "    # world_size = dist.get_world_size()\n",
        "    # rank = dist.get_rank()\n",
        "    # local_rank = dist.get_local_rank()\n",
        "    \n",
        "    # set the seed for generating random numbers\n",
        "    # torch.manual_seed(args.seed)\n",
        "    # if use_cuda:\n",
        "    #     torch.cuda.manual_seed(args.seed)\n",
        "\n",
        "    train_loader = _get_train_data_loader(batch_size, data_dir)\n",
        "    #if rank == 0:\n",
        "    test_loader = _get_test_data_loader(test_batch_size, test)\n",
        "    print(\"Max length of sequence: \", MAX_LEN)\n",
        "    print(\"Freezing {} layers\".format(frozen_layers))\n",
        "    print(\"Model used: \", PRE_TRAINED_MODEL_NAME)\n",
        "\n",
        "    # logger.debug(\n",
        "    #     \"Processes {}/{} ({:.0f}%) of train data\".format(\n",
        "    #         len(train_loader.sampler),\n",
        "    #         len(train_loader.dataset),\n",
        "    #         100.0 * len(train_loader.sampler) / len(train_loader.dataset),\n",
        "    #     ))\n",
        "\n",
        "    model = ProteinClassifier(\n",
        "        num_labels  # The number of output labels.\n",
        "    )\n",
        "    freeze(model, frozen_layers)\n",
        "    model = model.to(device) #DDP(model.to(device), broadcast_buffers=False)\n",
        "    # torch.cuda.set_device('local_rank')\n",
        "    # model.cuda(local_rank)\n",
        "    \n",
        "    optimizer = optim.Lamb(\n",
        "            model.parameters(), \n",
        "            lr = lr ,  #* dist.get_world_size()\n",
        "            betas=(0.9, 0.999), \n",
        "            eps=epsilon, \n",
        "            weight_decay=weight_decay)\n",
        "    \n",
        "    total_steps = len(train_loader.dataset)\n",
        "    \n",
        "    scheduler = get_linear_schedule_with_warmup(optimizer,num_warmup_steps=0,num_training_steps=total_steps)\n",
        "    \n",
        "    loss_fn = nn.CrossEntropyLoss().to(device)\n",
        "    \n",
        "    for epoch in range(1, epochs + 1):\n",
        "        model.train()\n",
        "        for step, batch in enumerate(train_loader):\n",
        "            b_input_ids = batch['input_ids'].to(device)\n",
        "            b_input_mask = batch['attention_mask'].to(device)\n",
        "            b_labels = batch['targets'].to(device)\n",
        "\n",
        "            outputs = model(b_input_ids,attention_mask=b_input_mask)\n",
        "            loss = loss_fn(outputs, b_labels)\n",
        "\n",
        "            loss.backward()\n",
        "            torch.nn.utils.clip_grad_norm_(model.parameters(), 1.0)\n",
        "            # modified based on their gradients, the learning rate, etc.\n",
        "            optimizer.step()\n",
        "            optimizer.zero_grad()\n",
        "            \n",
        "            if step % log_interval == 0 : #and rank == 0\n",
        "                logger.info(\n",
        "                    \"Collecting data from Master Node: \\n Train Epoch: {} [{}/{} ({:.0f}%)] Training Loss: {:.6f}\".format(\n",
        "                        epoch,\n",
        "                        step * len(batch['input_ids']),  #*world_size\n",
        "                        len(train_loader.dataset),\n",
        "                        100.0 * step / len(train_loader),\n",
        "                        loss.item(),\n",
        "                    ))\n",
        "            if verbose:\n",
        "                print('Batch', step)\n",
        "        test(model, test_loader, device)\n",
        "        scheduler.step()\n",
        "    model_save = model.module if hasattr(model, \"module\") else model\n",
        "    save_model(model_save, model_dir)\n",
        "\n",
        "def save_model(model, model_dir):\n",
        "    path = os.path.join(model_dir, 'model.pth')\n",
        "    # recommended way from http://pytorch.org/docs/master/notes/serialization.html\n",
        "    torch.save(model.state_dict(), path)\n",
        "    logger.info(f\"Saving model: {path} \\n\")\n",
        "\n",
        "def test(model, test_loader, device):\n",
        "    model.eval()\n",
        "    losses = []\n",
        "    correct_predictions = 0\n",
        "    loss_fn = nn.CrossEntropyLoss().to(device)\n",
        "    tmp_eval_accuracy, eval_accuracy = 0, 0\n",
        "    \n",
        "    with torch.no_grad():\n",
        "        for batch in test_loader:\n",
        "            b_input_ids = batch['input_ids'].to(device)\n",
        "            b_input_mask = batch['attention_mask'].to(device)\n",
        "            b_labels = batch['targets'].to(device)\n",
        "\n",
        "            outputs = model(b_input_ids,attention_mask=b_input_mask)\n",
        "            _, preds = torch.max(outputs, dim=1)\n",
        "            loss = loss_fn(outputs, b_labels)\n",
        "            correct_predictions += torch.sum(preds == b_labels)\n",
        "            losses.append(loss.item())\n",
        "            \n",
        "    print('\\nTest set: Validation loss: {:.4f}, Validation Accuracy: {:.0f}%\\n'.format(\n",
        "        np.mean(losses),\n",
        "        100. * correct_predictions.double() / len(test_loader.dataset)))\n",
        "\n",
        "# if __name__ == \"__main__\":\n",
        "#     parser = argparse.ArgumentParser()\n",
        "\n",
        "#     # Data and model checkpoints directories\n",
        "#     parser.add_argument(\"--num_labels\", type=int, default=18, metavar=\"N\", help=\"input batch size for training (default: 10)\")\n",
        "\n",
        "#     parser.add_argument(\"--batch-size\", type=int, default=8, metavar=\"N\", help=\"input batch size for training (default: 1)\")\n",
        "#     parser.add_argument(\"--test-batch-size\", type=int, default=8, metavar=\"N\", help=\"input batch size for testing (default: 8)\")\n",
        "#     parser.add_argument(\"--epochs\", type=int, default=10, metavar=\"N\", help=\"number of epochs to train (default: 2)\")\n",
        "#     parser.add_argument(\"--lr\", type=float, default=0.3e-5, metavar=\"LR\", help=\"learning rate (default: 0.3e-5)\")\n",
        "#     parser.add_argument(\"--weight_decay\", type=float, default=0.01, metavar=\"M\", help=\"weight_decay (default: 0.01)\")\n",
        "#     parser.add_argument(\"--seed\", type=int, default=43, metavar=\"S\", help=\"random seed (default: 43)\")\n",
        "#     parser.add_argument(\"--epsilon\", type=int, default=1e-8, metavar=\"EP\", help=\"random seed (default: 1e-8)\")\n",
        "#     parser.add_argument(\"--frozen_layers\", type=int, default=10, metavar=\"NL\", help=\"number of frozen layers(default: 10)\")\n",
        "#     parser.add_argument('--verbose', action='store_true', default=False,help='For displaying SMDataParallel-specific logs')\n",
        "#     parser.add_argument(\"--log-interval\",type=int,default=10,metavar=\"N\",help=\"how many batches to wait before logging training status\",)\n",
        "   \n",
        "#     # Container environment\n",
        "#     # parser.add_argument(\"--hosts\", type=list, default=json.loads(os.environ[\"SM_HOSTS\"]))\n",
        "#     # parser.add_argument(\"--current-host\", type=str, default=os.environ[\"SM_CURRENT_HOST\"])\n",
        "#     parser.add_argument(\"--model-dir\", type=str, default=\"/Models\")\n",
        "#     parser.add_argument(\"--data-dir\", type=str, default=\"/content/drive/MyDrive/Challenge\")\n",
        "#     parser.add_argument(\"--test\", type=str, default=\"/content/drive/MyDrive/Challenge\")\n",
        "#     # parser.add_argument(\"--num-gpus\", type=int, default=os.environ[\"SM_NUM_GPUS\"])\n",
        "\n",
        "#     train(parser.parse_args())\n",
        "\n",
        "batch_size = 8\n",
        "data_dir = \"/content/drive/MyDrive/Challenge/\"\n",
        "test_batch_size = 8\n",
        "test = \"/content/drive/MyDrive/Challenge/\"\n",
        "frozen_layers = 30\n",
        "num_labels = 18\n",
        "lr = 0.3e-5\n",
        "epsilon = 1e-8\n",
        "weight_decay = 0.01\n",
        "epochs = 10\n",
        "log_interval = 10\n",
        "verbose = False\n",
        "model_dir =\"/content/drive/MyDrive/Challenge/Models/\"\n",
        "train(batch_size,data_dir,test_batch_size,test,frozen_layers,num_labels, lr, epsilon, weight_decay, epochs, log_interval, verbose, model_dir)"
      ]
    }
  ],
  "metadata": {
    "colab": {
      "provenance": []
    },
    "kernelspec": {
      "display_name": "Python 3",
      "name": "python3"
    },
    "language_info": {
      "name": "python"
    },
    "widgets": {
      "application/vnd.jupyter.widget-state+json": {
        "013b33f4946245e095956339310bedf3": {
          "model_module": "@jupyter-widgets/controls",
          "model_module_version": "1.5.0",
          "model_name": "FloatProgressModel",
          "state": {
            "_dom_classes": [],
            "_model_module": "@jupyter-widgets/controls",
            "_model_module_version": "1.5.0",
            "_model_name": "FloatProgressModel",
            "_view_count": null,
            "_view_module": "@jupyter-widgets/controls",
            "_view_module_version": "1.5.0",
            "_view_name": "ProgressView",
            "bar_style": "success",
            "description": "",
            "description_tooltip": null,
            "layout": "IPY_MODEL_2f9433382ba44897bfc2fb8de9b37121",
            "max": 81,
            "min": 0,
            "orientation": "horizontal",
            "style": "IPY_MODEL_2170f7dcdf05451da476ee52adb7344b",
            "value": 81
          }
        },
        "080f1609e5a3487abfdf556ecef507dd": {
          "model_module": "@jupyter-widgets/controls",
          "model_module_version": "1.5.0",
          "model_name": "HBoxModel",
          "state": {
            "_dom_classes": [],
            "_model_module": "@jupyter-widgets/controls",
            "_model_module_version": "1.5.0",
            "_model_name": "HBoxModel",
            "_view_count": null,
            "_view_module": "@jupyter-widgets/controls",
            "_view_module_version": "1.5.0",
            "_view_name": "HBoxView",
            "box_style": "",
            "children": [
              "IPY_MODEL_b84c4ca7f7aa46bdb5646d6c31eea7ac",
              "IPY_MODEL_0d648a9586774ec291af7d4d2c6bf6fb",
              "IPY_MODEL_a2e231dceb904ad097c140dd000fd831"
            ],
            "layout": "IPY_MODEL_090e45466c684d5b9b7614724e3d29b5"
          }
        },
        "090e45466c684d5b9b7614724e3d29b5": {
          "model_module": "@jupyter-widgets/base",
          "model_module_version": "1.2.0",
          "model_name": "LayoutModel",
          "state": {
            "_model_module": "@jupyter-widgets/base",
            "_model_module_version": "1.2.0",
            "_model_name": "LayoutModel",
            "_view_count": null,
            "_view_module": "@jupyter-widgets/base",
            "_view_module_version": "1.2.0",
            "_view_name": "LayoutView",
            "align_content": null,
            "align_items": null,
            "align_self": null,
            "border": null,
            "bottom": null,
            "display": null,
            "flex": null,
            "flex_flow": null,
            "grid_area": null,
            "grid_auto_columns": null,
            "grid_auto_flow": null,
            "grid_auto_rows": null,
            "grid_column": null,
            "grid_gap": null,
            "grid_row": null,
            "grid_template_areas": null,
            "grid_template_columns": null,
            "grid_template_rows": null,
            "height": null,
            "justify_content": null,
            "justify_items": null,
            "left": null,
            "margin": null,
            "max_height": null,
            "max_width": null,
            "min_height": null,
            "min_width": null,
            "object_fit": null,
            "object_position": null,
            "order": null,
            "overflow": null,
            "overflow_x": null,
            "overflow_y": null,
            "padding": null,
            "right": null,
            "top": null,
            "visibility": null,
            "width": null
          }
        },
        "0ae6f7d4106947d596208a0bf4296c02": {
          "model_module": "@jupyter-widgets/controls",
          "model_module_version": "1.5.0",
          "model_name": "DescriptionStyleModel",
          "state": {
            "_model_module": "@jupyter-widgets/controls",
            "_model_module_version": "1.5.0",
            "_model_name": "DescriptionStyleModel",
            "_view_count": null,
            "_view_module": "@jupyter-widgets/base",
            "_view_module_version": "1.2.0",
            "_view_name": "StyleView",
            "description_width": ""
          }
        },
        "0c8eac5d604b4adcbe5b6f41de700079": {
          "model_module": "@jupyter-widgets/base",
          "model_module_version": "1.2.0",
          "model_name": "LayoutModel",
          "state": {
            "_model_module": "@jupyter-widgets/base",
            "_model_module_version": "1.2.0",
            "_model_name": "LayoutModel",
            "_view_count": null,
            "_view_module": "@jupyter-widgets/base",
            "_view_module_version": "1.2.0",
            "_view_name": "LayoutView",
            "align_content": null,
            "align_items": null,
            "align_self": null,
            "border": null,
            "bottom": null,
            "display": null,
            "flex": null,
            "flex_flow": null,
            "grid_area": null,
            "grid_auto_columns": null,
            "grid_auto_flow": null,
            "grid_auto_rows": null,
            "grid_column": null,
            "grid_gap": null,
            "grid_row": null,
            "grid_template_areas": null,
            "grid_template_columns": null,
            "grid_template_rows": null,
            "height": null,
            "justify_content": null,
            "justify_items": null,
            "left": null,
            "margin": null,
            "max_height": null,
            "max_width": null,
            "min_height": null,
            "min_width": null,
            "object_fit": null,
            "object_position": null,
            "order": null,
            "overflow": null,
            "overflow_x": null,
            "overflow_y": null,
            "padding": null,
            "right": null,
            "top": null,
            "visibility": null,
            "width": null
          }
        },
        "0d648a9586774ec291af7d4d2c6bf6fb": {
          "model_module": "@jupyter-widgets/controls",
          "model_module_version": "1.5.0",
          "model_name": "FloatProgressModel",
          "state": {
            "_dom_classes": [],
            "_model_module": "@jupyter-widgets/controls",
            "_model_module_version": "1.5.0",
            "_model_name": "FloatProgressModel",
            "_view_count": null,
            "_view_module": "@jupyter-widgets/controls",
            "_view_module_version": "1.5.0",
            "_view_name": "ProgressView",
            "bar_style": "success",
            "description": "",
            "description_tooltip": null,
            "layout": "IPY_MODEL_b3f72d0146bb41018e5b85250e105367",
            "max": 1684058277,
            "min": 0,
            "orientation": "horizontal",
            "style": "IPY_MODEL_8ca60840af2047b0bb6888803d3a6cd1",
            "value": 1684058277
          }
        },
        "2170f7dcdf05451da476ee52adb7344b": {
          "model_module": "@jupyter-widgets/controls",
          "model_module_version": "1.5.0",
          "model_name": "ProgressStyleModel",
          "state": {
            "_model_module": "@jupyter-widgets/controls",
            "_model_module_version": "1.5.0",
            "_model_name": "ProgressStyleModel",
            "_view_count": null,
            "_view_module": "@jupyter-widgets/base",
            "_view_module_version": "1.2.0",
            "_view_name": "StyleView",
            "bar_color": null,
            "description_width": ""
          }
        },
        "23ab077c98ba4d5390ad4fc779c7d5ec": {
          "model_module": "@jupyter-widgets/controls",
          "model_module_version": "1.5.0",
          "model_name": "FloatProgressModel",
          "state": {
            "_dom_classes": [],
            "_model_module": "@jupyter-widgets/controls",
            "_model_module_version": "1.5.0",
            "_model_name": "FloatProgressModel",
            "_view_count": null,
            "_view_module": "@jupyter-widgets/controls",
            "_view_module_version": "1.5.0",
            "_view_name": "ProgressView",
            "bar_style": "success",
            "description": "",
            "description_tooltip": null,
            "layout": "IPY_MODEL_93a68fa83caa4fe4940761c2663e15fb",
            "max": 112,
            "min": 0,
            "orientation": "horizontal",
            "style": "IPY_MODEL_e283a4482ea44cb9807c604394086363",
            "value": 112
          }
        },
        "27423c24259940eeae6ade46b92d3538": {
          "model_module": "@jupyter-widgets/controls",
          "model_module_version": "1.5.0",
          "model_name": "DescriptionStyleModel",
          "state": {
            "_model_module": "@jupyter-widgets/controls",
            "_model_module_version": "1.5.0",
            "_model_name": "DescriptionStyleModel",
            "_view_count": null,
            "_view_module": "@jupyter-widgets/base",
            "_view_module_version": "1.2.0",
            "_view_name": "StyleView",
            "description_width": ""
          }
        },
        "27c38712b0784c3196e3c0b198ca5cc6": {
          "model_module": "@jupyter-widgets/base",
          "model_module_version": "1.2.0",
          "model_name": "LayoutModel",
          "state": {
            "_model_module": "@jupyter-widgets/base",
            "_model_module_version": "1.2.0",
            "_model_name": "LayoutModel",
            "_view_count": null,
            "_view_module": "@jupyter-widgets/base",
            "_view_module_version": "1.2.0",
            "_view_name": "LayoutView",
            "align_content": null,
            "align_items": null,
            "align_self": null,
            "border": null,
            "bottom": null,
            "display": null,
            "flex": null,
            "flex_flow": null,
            "grid_area": null,
            "grid_auto_columns": null,
            "grid_auto_flow": null,
            "grid_auto_rows": null,
            "grid_column": null,
            "grid_gap": null,
            "grid_row": null,
            "grid_template_areas": null,
            "grid_template_columns": null,
            "grid_template_rows": null,
            "height": null,
            "justify_content": null,
            "justify_items": null,
            "left": null,
            "margin": null,
            "max_height": null,
            "max_width": null,
            "min_height": null,
            "min_width": null,
            "object_fit": null,
            "object_position": null,
            "order": null,
            "overflow": null,
            "overflow_x": null,
            "overflow_y": null,
            "padding": null,
            "right": null,
            "top": null,
            "visibility": null,
            "width": null
          }
        },
        "2f9433382ba44897bfc2fb8de9b37121": {
          "model_module": "@jupyter-widgets/base",
          "model_module_version": "1.2.0",
          "model_name": "LayoutModel",
          "state": {
            "_model_module": "@jupyter-widgets/base",
            "_model_module_version": "1.2.0",
            "_model_name": "LayoutModel",
            "_view_count": null,
            "_view_module": "@jupyter-widgets/base",
            "_view_module_version": "1.2.0",
            "_view_name": "LayoutView",
            "align_content": null,
            "align_items": null,
            "align_self": null,
            "border": null,
            "bottom": null,
            "display": null,
            "flex": null,
            "flex_flow": null,
            "grid_area": null,
            "grid_auto_columns": null,
            "grid_auto_flow": null,
            "grid_auto_rows": null,
            "grid_column": null,
            "grid_gap": null,
            "grid_row": null,
            "grid_template_areas": null,
            "grid_template_columns": null,
            "grid_template_rows": null,
            "height": null,
            "justify_content": null,
            "justify_items": null,
            "left": null,
            "margin": null,
            "max_height": null,
            "max_width": null,
            "min_height": null,
            "min_width": null,
            "object_fit": null,
            "object_position": null,
            "order": null,
            "overflow": null,
            "overflow_x": null,
            "overflow_y": null,
            "padding": null,
            "right": null,
            "top": null,
            "visibility": null,
            "width": null
          }
        },
        "302a58a670c94d42b068de0457aee66a": {
          "model_module": "@jupyter-widgets/base",
          "model_module_version": "1.2.0",
          "model_name": "LayoutModel",
          "state": {
            "_model_module": "@jupyter-widgets/base",
            "_model_module_version": "1.2.0",
            "_model_name": "LayoutModel",
            "_view_count": null,
            "_view_module": "@jupyter-widgets/base",
            "_view_module_version": "1.2.0",
            "_view_name": "LayoutView",
            "align_content": null,
            "align_items": null,
            "align_self": null,
            "border": null,
            "bottom": null,
            "display": null,
            "flex": null,
            "flex_flow": null,
            "grid_area": null,
            "grid_auto_columns": null,
            "grid_auto_flow": null,
            "grid_auto_rows": null,
            "grid_column": null,
            "grid_gap": null,
            "grid_row": null,
            "grid_template_areas": null,
            "grid_template_columns": null,
            "grid_template_rows": null,
            "height": null,
            "justify_content": null,
            "justify_items": null,
            "left": null,
            "margin": null,
            "max_height": null,
            "max_width": null,
            "min_height": null,
            "min_width": null,
            "object_fit": null,
            "object_position": null,
            "order": null,
            "overflow": null,
            "overflow_x": null,
            "overflow_y": null,
            "padding": null,
            "right": null,
            "top": null,
            "visibility": null,
            "width": null
          }
        },
        "32ad3c8750c9451ebcbf1a3880474d70": {
          "model_module": "@jupyter-widgets/controls",
          "model_module_version": "1.5.0",
          "model_name": "DescriptionStyleModel",
          "state": {
            "_model_module": "@jupyter-widgets/controls",
            "_model_module_version": "1.5.0",
            "_model_name": "DescriptionStyleModel",
            "_view_count": null,
            "_view_module": "@jupyter-widgets/base",
            "_view_module_version": "1.2.0",
            "_view_name": "StyleView",
            "description_width": ""
          }
        },
        "363c3678b37b44f1bf44488818efee99": {
          "model_module": "@jupyter-widgets/base",
          "model_module_version": "1.2.0",
          "model_name": "LayoutModel",
          "state": {
            "_model_module": "@jupyter-widgets/base",
            "_model_module_version": "1.2.0",
            "_model_name": "LayoutModel",
            "_view_count": null,
            "_view_module": "@jupyter-widgets/base",
            "_view_module_version": "1.2.0",
            "_view_name": "LayoutView",
            "align_content": null,
            "align_items": null,
            "align_self": null,
            "border": null,
            "bottom": null,
            "display": null,
            "flex": null,
            "flex_flow": null,
            "grid_area": null,
            "grid_auto_columns": null,
            "grid_auto_flow": null,
            "grid_auto_rows": null,
            "grid_column": null,
            "grid_gap": null,
            "grid_row": null,
            "grid_template_areas": null,
            "grid_template_columns": null,
            "grid_template_rows": null,
            "height": null,
            "justify_content": null,
            "justify_items": null,
            "left": null,
            "margin": null,
            "max_height": null,
            "max_width": null,
            "min_height": null,
            "min_width": null,
            "object_fit": null,
            "object_position": null,
            "order": null,
            "overflow": null,
            "overflow_x": null,
            "overflow_y": null,
            "padding": null,
            "right": null,
            "top": null,
            "visibility": null,
            "width": null
          }
        },
        "365dc350c9ae4481b0e9ff195771edad": {
          "model_module": "@jupyter-widgets/controls",
          "model_module_version": "1.5.0",
          "model_name": "DescriptionStyleModel",
          "state": {
            "_model_module": "@jupyter-widgets/controls",
            "_model_module_version": "1.5.0",
            "_model_name": "DescriptionStyleModel",
            "_view_count": null,
            "_view_module": "@jupyter-widgets/base",
            "_view_module_version": "1.2.0",
            "_view_name": "StyleView",
            "description_width": ""
          }
        },
        "36950f9b646e44bca7bb2cf2a570c95a": {
          "model_module": "@jupyter-widgets/controls",
          "model_module_version": "1.5.0",
          "model_name": "ProgressStyleModel",
          "state": {
            "_model_module": "@jupyter-widgets/controls",
            "_model_module_version": "1.5.0",
            "_model_name": "ProgressStyleModel",
            "_view_count": null,
            "_view_module": "@jupyter-widgets/base",
            "_view_module_version": "1.2.0",
            "_view_name": "StyleView",
            "bar_color": null,
            "description_width": ""
          }
        },
        "3b791504667046fab3ead4a09741838e": {
          "model_module": "@jupyter-widgets/base",
          "model_module_version": "1.2.0",
          "model_name": "LayoutModel",
          "state": {
            "_model_module": "@jupyter-widgets/base",
            "_model_module_version": "1.2.0",
            "_model_name": "LayoutModel",
            "_view_count": null,
            "_view_module": "@jupyter-widgets/base",
            "_view_module_version": "1.2.0",
            "_view_name": "LayoutView",
            "align_content": null,
            "align_items": null,
            "align_self": null,
            "border": null,
            "bottom": null,
            "display": null,
            "flex": null,
            "flex_flow": null,
            "grid_area": null,
            "grid_auto_columns": null,
            "grid_auto_flow": null,
            "grid_auto_rows": null,
            "grid_column": null,
            "grid_gap": null,
            "grid_row": null,
            "grid_template_areas": null,
            "grid_template_columns": null,
            "grid_template_rows": null,
            "height": null,
            "justify_content": null,
            "justify_items": null,
            "left": null,
            "margin": null,
            "max_height": null,
            "max_width": null,
            "min_height": null,
            "min_width": null,
            "object_fit": null,
            "object_position": null,
            "order": null,
            "overflow": null,
            "overflow_x": null,
            "overflow_y": null,
            "padding": null,
            "right": null,
            "top": null,
            "visibility": null,
            "width": null
          }
        },
        "3b8d8e74fcbf49deb01a2aa79c996896": {
          "model_module": "@jupyter-widgets/controls",
          "model_module_version": "1.5.0",
          "model_name": "FloatProgressModel",
          "state": {
            "_dom_classes": [],
            "_model_module": "@jupyter-widgets/controls",
            "_model_module_version": "1.5.0",
            "_model_name": "FloatProgressModel",
            "_view_count": null,
            "_view_module": "@jupyter-widgets/controls",
            "_view_module_version": "1.5.0",
            "_view_name": "ProgressView",
            "bar_style": "success",
            "description": "",
            "description_tooltip": null,
            "layout": "IPY_MODEL_946c0ba80da140b4803be23996ece277",
            "max": 361,
            "min": 0,
            "orientation": "horizontal",
            "style": "IPY_MODEL_d66cbb7294124af6844c6c0eff4ac66b",
            "value": 361
          }
        },
        "433c44c68d4944edb9bcc8b56c51f814": {
          "model_module": "@jupyter-widgets/base",
          "model_module_version": "1.2.0",
          "model_name": "LayoutModel",
          "state": {
            "_model_module": "@jupyter-widgets/base",
            "_model_module_version": "1.2.0",
            "_model_name": "LayoutModel",
            "_view_count": null,
            "_view_module": "@jupyter-widgets/base",
            "_view_module_version": "1.2.0",
            "_view_name": "LayoutView",
            "align_content": null,
            "align_items": null,
            "align_self": null,
            "border": null,
            "bottom": null,
            "display": null,
            "flex": null,
            "flex_flow": null,
            "grid_area": null,
            "grid_auto_columns": null,
            "grid_auto_flow": null,
            "grid_auto_rows": null,
            "grid_column": null,
            "grid_gap": null,
            "grid_row": null,
            "grid_template_areas": null,
            "grid_template_columns": null,
            "grid_template_rows": null,
            "height": null,
            "justify_content": null,
            "justify_items": null,
            "left": null,
            "margin": null,
            "max_height": null,
            "max_width": null,
            "min_height": null,
            "min_width": null,
            "object_fit": null,
            "object_position": null,
            "order": null,
            "overflow": null,
            "overflow_x": null,
            "overflow_y": null,
            "padding": null,
            "right": null,
            "top": null,
            "visibility": null,
            "width": null
          }
        },
        "4547a57974a3474fbbee02d5d6a410c5": {
          "model_module": "@jupyter-widgets/controls",
          "model_module_version": "1.5.0",
          "model_name": "HTMLModel",
          "state": {
            "_dom_classes": [],
            "_model_module": "@jupyter-widgets/controls",
            "_model_module_version": "1.5.0",
            "_model_name": "HTMLModel",
            "_view_count": null,
            "_view_module": "@jupyter-widgets/controls",
            "_view_module_version": "1.5.0",
            "_view_name": "HTMLView",
            "description": "",
            "description_tooltip": null,
            "layout": "IPY_MODEL_ff2cd007123b4bd7b72880efc7e4610c",
            "placeholder": "​",
            "style": "IPY_MODEL_a0d3a099614c40a38bc189acfaffc3ec",
            "value": "Downloading: 100%"
          }
        },
        "47996f2e583146b998ca65c9a489917f": {
          "model_module": "@jupyter-widgets/controls",
          "model_module_version": "1.5.0",
          "model_name": "HTMLModel",
          "state": {
            "_dom_classes": [],
            "_model_module": "@jupyter-widgets/controls",
            "_model_module_version": "1.5.0",
            "_model_name": "HTMLModel",
            "_view_count": null,
            "_view_module": "@jupyter-widgets/controls",
            "_view_module_version": "1.5.0",
            "_view_name": "HTMLView",
            "description": "",
            "description_tooltip": null,
            "layout": "IPY_MODEL_8d999a7e78654739a520a793df21bba1",
            "placeholder": "​",
            "style": "IPY_MODEL_50190ee3725c44ac9cb6b097962cc4fe",
            "value": " 112/112 [00:00&lt;00:00, 5.03kB/s]"
          }
        },
        "4c1db1a136c846a1a4298c1abe0166ed": {
          "model_module": "@jupyter-widgets/base",
          "model_module_version": "1.2.0",
          "model_name": "LayoutModel",
          "state": {
            "_model_module": "@jupyter-widgets/base",
            "_model_module_version": "1.2.0",
            "_model_name": "LayoutModel",
            "_view_count": null,
            "_view_module": "@jupyter-widgets/base",
            "_view_module_version": "1.2.0",
            "_view_name": "LayoutView",
            "align_content": null,
            "align_items": null,
            "align_self": null,
            "border": null,
            "bottom": null,
            "display": null,
            "flex": null,
            "flex_flow": null,
            "grid_area": null,
            "grid_auto_columns": null,
            "grid_auto_flow": null,
            "grid_auto_rows": null,
            "grid_column": null,
            "grid_gap": null,
            "grid_row": null,
            "grid_template_areas": null,
            "grid_template_columns": null,
            "grid_template_rows": null,
            "height": null,
            "justify_content": null,
            "justify_items": null,
            "left": null,
            "margin": null,
            "max_height": null,
            "max_width": null,
            "min_height": null,
            "min_width": null,
            "object_fit": null,
            "object_position": null,
            "order": null,
            "overflow": null,
            "overflow_x": null,
            "overflow_y": null,
            "padding": null,
            "right": null,
            "top": null,
            "visibility": null,
            "width": null
          }
        },
        "4fb0c43f7c994fc69dee65657deb76d0": {
          "model_module": "@jupyter-widgets/base",
          "model_module_version": "1.2.0",
          "model_name": "LayoutModel",
          "state": {
            "_model_module": "@jupyter-widgets/base",
            "_model_module_version": "1.2.0",
            "_model_name": "LayoutModel",
            "_view_count": null,
            "_view_module": "@jupyter-widgets/base",
            "_view_module_version": "1.2.0",
            "_view_name": "LayoutView",
            "align_content": null,
            "align_items": null,
            "align_self": null,
            "border": null,
            "bottom": null,
            "display": null,
            "flex": null,
            "flex_flow": null,
            "grid_area": null,
            "grid_auto_columns": null,
            "grid_auto_flow": null,
            "grid_auto_rows": null,
            "grid_column": null,
            "grid_gap": null,
            "grid_row": null,
            "grid_template_areas": null,
            "grid_template_columns": null,
            "grid_template_rows": null,
            "height": null,
            "justify_content": null,
            "justify_items": null,
            "left": null,
            "margin": null,
            "max_height": null,
            "max_width": null,
            "min_height": null,
            "min_width": null,
            "object_fit": null,
            "object_position": null,
            "order": null,
            "overflow": null,
            "overflow_x": null,
            "overflow_y": null,
            "padding": null,
            "right": null,
            "top": null,
            "visibility": null,
            "width": null
          }
        },
        "50190ee3725c44ac9cb6b097962cc4fe": {
          "model_module": "@jupyter-widgets/controls",
          "model_module_version": "1.5.0",
          "model_name": "DescriptionStyleModel",
          "state": {
            "_model_module": "@jupyter-widgets/controls",
            "_model_module_version": "1.5.0",
            "_model_name": "DescriptionStyleModel",
            "_view_count": null,
            "_view_module": "@jupyter-widgets/base",
            "_view_module_version": "1.2.0",
            "_view_name": "StyleView",
            "description_width": ""
          }
        },
        "63ff3a2d5aec424b8ff9992c2a452840": {
          "model_module": "@jupyter-widgets/base",
          "model_module_version": "1.2.0",
          "model_name": "LayoutModel",
          "state": {
            "_model_module": "@jupyter-widgets/base",
            "_model_module_version": "1.2.0",
            "_model_name": "LayoutModel",
            "_view_count": null,
            "_view_module": "@jupyter-widgets/base",
            "_view_module_version": "1.2.0",
            "_view_name": "LayoutView",
            "align_content": null,
            "align_items": null,
            "align_self": null,
            "border": null,
            "bottom": null,
            "display": null,
            "flex": null,
            "flex_flow": null,
            "grid_area": null,
            "grid_auto_columns": null,
            "grid_auto_flow": null,
            "grid_auto_rows": null,
            "grid_column": null,
            "grid_gap": null,
            "grid_row": null,
            "grid_template_areas": null,
            "grid_template_columns": null,
            "grid_template_rows": null,
            "height": null,
            "justify_content": null,
            "justify_items": null,
            "left": null,
            "margin": null,
            "max_height": null,
            "max_width": null,
            "min_height": null,
            "min_width": null,
            "object_fit": null,
            "object_position": null,
            "order": null,
            "overflow": null,
            "overflow_x": null,
            "overflow_y": null,
            "padding": null,
            "right": null,
            "top": null,
            "visibility": null,
            "width": null
          }
        },
        "66c087380ba44e278b6eb505ad82ce2a": {
          "model_module": "@jupyter-widgets/controls",
          "model_module_version": "1.5.0",
          "model_name": "HTMLModel",
          "state": {
            "_dom_classes": [],
            "_model_module": "@jupyter-widgets/controls",
            "_model_module_version": "1.5.0",
            "_model_name": "HTMLModel",
            "_view_count": null,
            "_view_module": "@jupyter-widgets/controls",
            "_view_module_version": "1.5.0",
            "_view_name": "HTMLView",
            "description": "",
            "description_tooltip": null,
            "layout": "IPY_MODEL_b8842940a8a7469caebfbed81947c35a",
            "placeholder": "​",
            "style": "IPY_MODEL_90db6ad634dd4de5b2c8295ee8f46cff",
            "value": "Downloading: 100%"
          }
        },
        "8ca60840af2047b0bb6888803d3a6cd1": {
          "model_module": "@jupyter-widgets/controls",
          "model_module_version": "1.5.0",
          "model_name": "ProgressStyleModel",
          "state": {
            "_model_module": "@jupyter-widgets/controls",
            "_model_module_version": "1.5.0",
            "_model_name": "ProgressStyleModel",
            "_view_count": null,
            "_view_module": "@jupyter-widgets/base",
            "_view_module_version": "1.2.0",
            "_view_name": "StyleView",
            "bar_color": null,
            "description_width": ""
          }
        },
        "8d999a7e78654739a520a793df21bba1": {
          "model_module": "@jupyter-widgets/base",
          "model_module_version": "1.2.0",
          "model_name": "LayoutModel",
          "state": {
            "_model_module": "@jupyter-widgets/base",
            "_model_module_version": "1.2.0",
            "_model_name": "LayoutModel",
            "_view_count": null,
            "_view_module": "@jupyter-widgets/base",
            "_view_module_version": "1.2.0",
            "_view_name": "LayoutView",
            "align_content": null,
            "align_items": null,
            "align_self": null,
            "border": null,
            "bottom": null,
            "display": null,
            "flex": null,
            "flex_flow": null,
            "grid_area": null,
            "grid_auto_columns": null,
            "grid_auto_flow": null,
            "grid_auto_rows": null,
            "grid_column": null,
            "grid_gap": null,
            "grid_row": null,
            "grid_template_areas": null,
            "grid_template_columns": null,
            "grid_template_rows": null,
            "height": null,
            "justify_content": null,
            "justify_items": null,
            "left": null,
            "margin": null,
            "max_height": null,
            "max_width": null,
            "min_height": null,
            "min_width": null,
            "object_fit": null,
            "object_position": null,
            "order": null,
            "overflow": null,
            "overflow_x": null,
            "overflow_y": null,
            "padding": null,
            "right": null,
            "top": null,
            "visibility": null,
            "width": null
          }
        },
        "90ce260616484f32a174cd1fdcbdb323": {
          "model_module": "@jupyter-widgets/controls",
          "model_module_version": "1.5.0",
          "model_name": "DescriptionStyleModel",
          "state": {
            "_model_module": "@jupyter-widgets/controls",
            "_model_module_version": "1.5.0",
            "_model_name": "DescriptionStyleModel",
            "_view_count": null,
            "_view_module": "@jupyter-widgets/base",
            "_view_module_version": "1.2.0",
            "_view_name": "StyleView",
            "description_width": ""
          }
        },
        "90db6ad634dd4de5b2c8295ee8f46cff": {
          "model_module": "@jupyter-widgets/controls",
          "model_module_version": "1.5.0",
          "model_name": "DescriptionStyleModel",
          "state": {
            "_model_module": "@jupyter-widgets/controls",
            "_model_module_version": "1.5.0",
            "_model_name": "DescriptionStyleModel",
            "_view_count": null,
            "_view_module": "@jupyter-widgets/base",
            "_view_module_version": "1.2.0",
            "_view_name": "StyleView",
            "description_width": ""
          }
        },
        "9317d95ba3e24eec851780341f12fb8e": {
          "model_module": "@jupyter-widgets/controls",
          "model_module_version": "1.5.0",
          "model_name": "HTMLModel",
          "state": {
            "_dom_classes": [],
            "_model_module": "@jupyter-widgets/controls",
            "_model_module_version": "1.5.0",
            "_model_name": "HTMLModel",
            "_view_count": null,
            "_view_module": "@jupyter-widgets/controls",
            "_view_module_version": "1.5.0",
            "_view_name": "HTMLView",
            "description": "",
            "description_tooltip": null,
            "layout": "IPY_MODEL_4c1db1a136c846a1a4298c1abe0166ed",
            "placeholder": "​",
            "style": "IPY_MODEL_0ae6f7d4106947d596208a0bf4296c02",
            "value": " 86.0/86.0 [00:00&lt;00:00, 1.49kB/s]"
          }
        },
        "93a68fa83caa4fe4940761c2663e15fb": {
          "model_module": "@jupyter-widgets/base",
          "model_module_version": "1.2.0",
          "model_name": "LayoutModel",
          "state": {
            "_model_module": "@jupyter-widgets/base",
            "_model_module_version": "1.2.0",
            "_model_name": "LayoutModel",
            "_view_count": null,
            "_view_module": "@jupyter-widgets/base",
            "_view_module_version": "1.2.0",
            "_view_name": "LayoutView",
            "align_content": null,
            "align_items": null,
            "align_self": null,
            "border": null,
            "bottom": null,
            "display": null,
            "flex": null,
            "flex_flow": null,
            "grid_area": null,
            "grid_auto_columns": null,
            "grid_auto_flow": null,
            "grid_auto_rows": null,
            "grid_column": null,
            "grid_gap": null,
            "grid_row": null,
            "grid_template_areas": null,
            "grid_template_columns": null,
            "grid_template_rows": null,
            "height": null,
            "justify_content": null,
            "justify_items": null,
            "left": null,
            "margin": null,
            "max_height": null,
            "max_width": null,
            "min_height": null,
            "min_width": null,
            "object_fit": null,
            "object_position": null,
            "order": null,
            "overflow": null,
            "overflow_x": null,
            "overflow_y": null,
            "padding": null,
            "right": null,
            "top": null,
            "visibility": null,
            "width": null
          }
        },
        "946c0ba80da140b4803be23996ece277": {
          "model_module": "@jupyter-widgets/base",
          "model_module_version": "1.2.0",
          "model_name": "LayoutModel",
          "state": {
            "_model_module": "@jupyter-widgets/base",
            "_model_module_version": "1.2.0",
            "_model_name": "LayoutModel",
            "_view_count": null,
            "_view_module": "@jupyter-widgets/base",
            "_view_module_version": "1.2.0",
            "_view_name": "LayoutView",
            "align_content": null,
            "align_items": null,
            "align_self": null,
            "border": null,
            "bottom": null,
            "display": null,
            "flex": null,
            "flex_flow": null,
            "grid_area": null,
            "grid_auto_columns": null,
            "grid_auto_flow": null,
            "grid_auto_rows": null,
            "grid_column": null,
            "grid_gap": null,
            "grid_row": null,
            "grid_template_areas": null,
            "grid_template_columns": null,
            "grid_template_rows": null,
            "height": null,
            "justify_content": null,
            "justify_items": null,
            "left": null,
            "margin": null,
            "max_height": null,
            "max_width": null,
            "min_height": null,
            "min_width": null,
            "object_fit": null,
            "object_position": null,
            "order": null,
            "overflow": null,
            "overflow_x": null,
            "overflow_y": null,
            "padding": null,
            "right": null,
            "top": null,
            "visibility": null,
            "width": null
          }
        },
        "9c27dc0d891a43c9ac0a1c53dd4637a8": {
          "model_module": "@jupyter-widgets/base",
          "model_module_version": "1.2.0",
          "model_name": "LayoutModel",
          "state": {
            "_model_module": "@jupyter-widgets/base",
            "_model_module_version": "1.2.0",
            "_model_name": "LayoutModel",
            "_view_count": null,
            "_view_module": "@jupyter-widgets/base",
            "_view_module_version": "1.2.0",
            "_view_name": "LayoutView",
            "align_content": null,
            "align_items": null,
            "align_self": null,
            "border": null,
            "bottom": null,
            "display": null,
            "flex": null,
            "flex_flow": null,
            "grid_area": null,
            "grid_auto_columns": null,
            "grid_auto_flow": null,
            "grid_auto_rows": null,
            "grid_column": null,
            "grid_gap": null,
            "grid_row": null,
            "grid_template_areas": null,
            "grid_template_columns": null,
            "grid_template_rows": null,
            "height": null,
            "justify_content": null,
            "justify_items": null,
            "left": null,
            "margin": null,
            "max_height": null,
            "max_width": null,
            "min_height": null,
            "min_width": null,
            "object_fit": null,
            "object_position": null,
            "order": null,
            "overflow": null,
            "overflow_x": null,
            "overflow_y": null,
            "padding": null,
            "right": null,
            "top": null,
            "visibility": null,
            "width": null
          }
        },
        "9e68dea51f654314b15a3e8e735163d0": {
          "model_module": "@jupyter-widgets/controls",
          "model_module_version": "1.5.0",
          "model_name": "DescriptionStyleModel",
          "state": {
            "_model_module": "@jupyter-widgets/controls",
            "_model_module_version": "1.5.0",
            "_model_name": "DescriptionStyleModel",
            "_view_count": null,
            "_view_module": "@jupyter-widgets/base",
            "_view_module_version": "1.2.0",
            "_view_name": "StyleView",
            "description_width": ""
          }
        },
        "a0d3a099614c40a38bc189acfaffc3ec": {
          "model_module": "@jupyter-widgets/controls",
          "model_module_version": "1.5.0",
          "model_name": "DescriptionStyleModel",
          "state": {
            "_model_module": "@jupyter-widgets/controls",
            "_model_module_version": "1.5.0",
            "_model_name": "DescriptionStyleModel",
            "_view_count": null,
            "_view_module": "@jupyter-widgets/base",
            "_view_module_version": "1.2.0",
            "_view_name": "StyleView",
            "description_width": ""
          }
        },
        "a1002f7d7aa2453a9e5794f4f1a16716": {
          "model_module": "@jupyter-widgets/controls",
          "model_module_version": "1.5.0",
          "model_name": "HTMLModel",
          "state": {
            "_dom_classes": [],
            "_model_module": "@jupyter-widgets/controls",
            "_model_module_version": "1.5.0",
            "_model_name": "HTMLModel",
            "_view_count": null,
            "_view_module": "@jupyter-widgets/controls",
            "_view_module_version": "1.5.0",
            "_view_name": "HTMLView",
            "description": "",
            "description_tooltip": null,
            "layout": "IPY_MODEL_4fb0c43f7c994fc69dee65657deb76d0",
            "placeholder": "​",
            "style": "IPY_MODEL_365dc350c9ae4481b0e9ff195771edad",
            "value": "Downloading: 100%"
          }
        },
        "a2e231dceb904ad097c140dd000fd831": {
          "model_module": "@jupyter-widgets/controls",
          "model_module_version": "1.5.0",
          "model_name": "HTMLModel",
          "state": {
            "_dom_classes": [],
            "_model_module": "@jupyter-widgets/controls",
            "_model_module_version": "1.5.0",
            "_model_name": "HTMLModel",
            "_view_count": null,
            "_view_module": "@jupyter-widgets/controls",
            "_view_module_version": "1.5.0",
            "_view_name": "HTMLView",
            "description": "",
            "description_tooltip": null,
            "layout": "IPY_MODEL_d315440c4adb4ef08603868fe5961edf",
            "placeholder": "​",
            "style": "IPY_MODEL_e1ad73699bda404c85f1ae68dfd543ad",
            "value": " 1.68G/1.68G [00:43&lt;00:00, 58.6MB/s]"
          }
        },
        "ae998dc6314d471887bb7b6628b2e7c8": {
          "model_module": "@jupyter-widgets/controls",
          "model_module_version": "1.5.0",
          "model_name": "HBoxModel",
          "state": {
            "_dom_classes": [],
            "_model_module": "@jupyter-widgets/controls",
            "_model_module_version": "1.5.0",
            "_model_name": "HBoxModel",
            "_view_count": null,
            "_view_module": "@jupyter-widgets/controls",
            "_view_module_version": "1.5.0",
            "_view_name": "HBoxView",
            "box_style": "",
            "children": [
              "IPY_MODEL_a1002f7d7aa2453a9e5794f4f1a16716",
              "IPY_MODEL_3b8d8e74fcbf49deb01a2aa79c996896",
              "IPY_MODEL_d29830e5ad4748d9882cec4c5de9b304"
            ],
            "layout": "IPY_MODEL_9c27dc0d891a43c9ac0a1c53dd4637a8"
          }
        },
        "b3f72d0146bb41018e5b85250e105367": {
          "model_module": "@jupyter-widgets/base",
          "model_module_version": "1.2.0",
          "model_name": "LayoutModel",
          "state": {
            "_model_module": "@jupyter-widgets/base",
            "_model_module_version": "1.2.0",
            "_model_name": "LayoutModel",
            "_view_count": null,
            "_view_module": "@jupyter-widgets/base",
            "_view_module_version": "1.2.0",
            "_view_name": "LayoutView",
            "align_content": null,
            "align_items": null,
            "align_self": null,
            "border": null,
            "bottom": null,
            "display": null,
            "flex": null,
            "flex_flow": null,
            "grid_area": null,
            "grid_auto_columns": null,
            "grid_auto_flow": null,
            "grid_auto_rows": null,
            "grid_column": null,
            "grid_gap": null,
            "grid_row": null,
            "grid_template_areas": null,
            "grid_template_columns": null,
            "grid_template_rows": null,
            "height": null,
            "justify_content": null,
            "justify_items": null,
            "left": null,
            "margin": null,
            "max_height": null,
            "max_width": null,
            "min_height": null,
            "min_width": null,
            "object_fit": null,
            "object_position": null,
            "order": null,
            "overflow": null,
            "overflow_x": null,
            "overflow_y": null,
            "padding": null,
            "right": null,
            "top": null,
            "visibility": null,
            "width": null
          }
        },
        "b84c4ca7f7aa46bdb5646d6c31eea7ac": {
          "model_module": "@jupyter-widgets/controls",
          "model_module_version": "1.5.0",
          "model_name": "HTMLModel",
          "state": {
            "_dom_classes": [],
            "_model_module": "@jupyter-widgets/controls",
            "_model_module_version": "1.5.0",
            "_model_name": "HTMLModel",
            "_view_count": null,
            "_view_module": "@jupyter-widgets/controls",
            "_view_module_version": "1.5.0",
            "_view_name": "HTMLView",
            "description": "",
            "description_tooltip": null,
            "layout": "IPY_MODEL_27c38712b0784c3196e3c0b198ca5cc6",
            "placeholder": "​",
            "style": "IPY_MODEL_90ce260616484f32a174cd1fdcbdb323",
            "value": "Downloading: 100%"
          }
        },
        "b8842940a8a7469caebfbed81947c35a": {
          "model_module": "@jupyter-widgets/base",
          "model_module_version": "1.2.0",
          "model_name": "LayoutModel",
          "state": {
            "_model_module": "@jupyter-widgets/base",
            "_model_module_version": "1.2.0",
            "_model_name": "LayoutModel",
            "_view_count": null,
            "_view_module": "@jupyter-widgets/base",
            "_view_module_version": "1.2.0",
            "_view_name": "LayoutView",
            "align_content": null,
            "align_items": null,
            "align_self": null,
            "border": null,
            "bottom": null,
            "display": null,
            "flex": null,
            "flex_flow": null,
            "grid_area": null,
            "grid_auto_columns": null,
            "grid_auto_flow": null,
            "grid_auto_rows": null,
            "grid_column": null,
            "grid_gap": null,
            "grid_row": null,
            "grid_template_areas": null,
            "grid_template_columns": null,
            "grid_template_rows": null,
            "height": null,
            "justify_content": null,
            "justify_items": null,
            "left": null,
            "margin": null,
            "max_height": null,
            "max_width": null,
            "min_height": null,
            "min_width": null,
            "object_fit": null,
            "object_position": null,
            "order": null,
            "overflow": null,
            "overflow_x": null,
            "overflow_y": null,
            "padding": null,
            "right": null,
            "top": null,
            "visibility": null,
            "width": null
          }
        },
        "d17ad47d2cf7476d8497308dd02d69b5": {
          "model_module": "@jupyter-widgets/controls",
          "model_module_version": "1.5.0",
          "model_name": "HTMLModel",
          "state": {
            "_dom_classes": [],
            "_model_module": "@jupyter-widgets/controls",
            "_model_module_version": "1.5.0",
            "_model_name": "HTMLModel",
            "_view_count": null,
            "_view_module": "@jupyter-widgets/controls",
            "_view_module_version": "1.5.0",
            "_view_name": "HTMLView",
            "description": "",
            "description_tooltip": null,
            "layout": "IPY_MODEL_e0bacc758bea444999f30465859b03e0",
            "placeholder": "​",
            "style": "IPY_MODEL_9e68dea51f654314b15a3e8e735163d0",
            "value": " 81.0/81.0 [00:00&lt;00:00, 1.82kB/s]"
          }
        },
        "d18c1a4dbeda43da8a5ddffddeee3e79": {
          "model_module": "@jupyter-widgets/controls",
          "model_module_version": "1.5.0",
          "model_name": "HBoxModel",
          "state": {
            "_dom_classes": [],
            "_model_module": "@jupyter-widgets/controls",
            "_model_module_version": "1.5.0",
            "_model_name": "HBoxModel",
            "_view_count": null,
            "_view_module": "@jupyter-widgets/controls",
            "_view_module_version": "1.5.0",
            "_view_name": "HBoxView",
            "box_style": "",
            "children": [
              "IPY_MODEL_66c087380ba44e278b6eb505ad82ce2a",
              "IPY_MODEL_013b33f4946245e095956339310bedf3",
              "IPY_MODEL_d17ad47d2cf7476d8497308dd02d69b5"
            ],
            "layout": "IPY_MODEL_3b791504667046fab3ead4a09741838e"
          }
        },
        "d29830e5ad4748d9882cec4c5de9b304": {
          "model_module": "@jupyter-widgets/controls",
          "model_module_version": "1.5.0",
          "model_name": "HTMLModel",
          "state": {
            "_dom_classes": [],
            "_model_module": "@jupyter-widgets/controls",
            "_model_module_version": "1.5.0",
            "_model_name": "HTMLModel",
            "_view_count": null,
            "_view_module": "@jupyter-widgets/controls",
            "_view_module_version": "1.5.0",
            "_view_name": "HTMLView",
            "description": "",
            "description_tooltip": null,
            "layout": "IPY_MODEL_0c8eac5d604b4adcbe5b6f41de700079",
            "placeholder": "​",
            "style": "IPY_MODEL_32ad3c8750c9451ebcbf1a3880474d70",
            "value": " 361/361 [00:00&lt;00:00, 13.1kB/s]"
          }
        },
        "d315440c4adb4ef08603868fe5961edf": {
          "model_module": "@jupyter-widgets/base",
          "model_module_version": "1.2.0",
          "model_name": "LayoutModel",
          "state": {
            "_model_module": "@jupyter-widgets/base",
            "_model_module_version": "1.2.0",
            "_model_name": "LayoutModel",
            "_view_count": null,
            "_view_module": "@jupyter-widgets/base",
            "_view_module_version": "1.2.0",
            "_view_name": "LayoutView",
            "align_content": null,
            "align_items": null,
            "align_self": null,
            "border": null,
            "bottom": null,
            "display": null,
            "flex": null,
            "flex_flow": null,
            "grid_area": null,
            "grid_auto_columns": null,
            "grid_auto_flow": null,
            "grid_auto_rows": null,
            "grid_column": null,
            "grid_gap": null,
            "grid_row": null,
            "grid_template_areas": null,
            "grid_template_columns": null,
            "grid_template_rows": null,
            "height": null,
            "justify_content": null,
            "justify_items": null,
            "left": null,
            "margin": null,
            "max_height": null,
            "max_width": null,
            "min_height": null,
            "min_width": null,
            "object_fit": null,
            "object_position": null,
            "order": null,
            "overflow": null,
            "overflow_x": null,
            "overflow_y": null,
            "padding": null,
            "right": null,
            "top": null,
            "visibility": null,
            "width": null
          }
        },
        "d66cbb7294124af6844c6c0eff4ac66b": {
          "model_module": "@jupyter-widgets/controls",
          "model_module_version": "1.5.0",
          "model_name": "ProgressStyleModel",
          "state": {
            "_model_module": "@jupyter-widgets/controls",
            "_model_module_version": "1.5.0",
            "_model_name": "ProgressStyleModel",
            "_view_count": null,
            "_view_module": "@jupyter-widgets/base",
            "_view_module_version": "1.2.0",
            "_view_name": "StyleView",
            "bar_color": null,
            "description_width": ""
          }
        },
        "d783b6461b954cd7987246dbbcc8b3b3": {
          "model_module": "@jupyter-widgets/controls",
          "model_module_version": "1.5.0",
          "model_name": "HBoxModel",
          "state": {
            "_dom_classes": [],
            "_model_module": "@jupyter-widgets/controls",
            "_model_module_version": "1.5.0",
            "_model_name": "HBoxModel",
            "_view_count": null,
            "_view_module": "@jupyter-widgets/controls",
            "_view_module_version": "1.5.0",
            "_view_name": "HBoxView",
            "box_style": "",
            "children": [
              "IPY_MODEL_4547a57974a3474fbbee02d5d6a410c5",
              "IPY_MODEL_23ab077c98ba4d5390ad4fc779c7d5ec",
              "IPY_MODEL_47996f2e583146b998ca65c9a489917f"
            ],
            "layout": "IPY_MODEL_302a58a670c94d42b068de0457aee66a"
          }
        },
        "e0bacc758bea444999f30465859b03e0": {
          "model_module": "@jupyter-widgets/base",
          "model_module_version": "1.2.0",
          "model_name": "LayoutModel",
          "state": {
            "_model_module": "@jupyter-widgets/base",
            "_model_module_version": "1.2.0",
            "_model_name": "LayoutModel",
            "_view_count": null,
            "_view_module": "@jupyter-widgets/base",
            "_view_module_version": "1.2.0",
            "_view_name": "LayoutView",
            "align_content": null,
            "align_items": null,
            "align_self": null,
            "border": null,
            "bottom": null,
            "display": null,
            "flex": null,
            "flex_flow": null,
            "grid_area": null,
            "grid_auto_columns": null,
            "grid_auto_flow": null,
            "grid_auto_rows": null,
            "grid_column": null,
            "grid_gap": null,
            "grid_row": null,
            "grid_template_areas": null,
            "grid_template_columns": null,
            "grid_template_rows": null,
            "height": null,
            "justify_content": null,
            "justify_items": null,
            "left": null,
            "margin": null,
            "max_height": null,
            "max_width": null,
            "min_height": null,
            "min_width": null,
            "object_fit": null,
            "object_position": null,
            "order": null,
            "overflow": null,
            "overflow_x": null,
            "overflow_y": null,
            "padding": null,
            "right": null,
            "top": null,
            "visibility": null,
            "width": null
          }
        },
        "e1ad73699bda404c85f1ae68dfd543ad": {
          "model_module": "@jupyter-widgets/controls",
          "model_module_version": "1.5.0",
          "model_name": "DescriptionStyleModel",
          "state": {
            "_model_module": "@jupyter-widgets/controls",
            "_model_module_version": "1.5.0",
            "_model_name": "DescriptionStyleModel",
            "_view_count": null,
            "_view_module": "@jupyter-widgets/base",
            "_view_module_version": "1.2.0",
            "_view_name": "StyleView",
            "description_width": ""
          }
        },
        "e283a4482ea44cb9807c604394086363": {
          "model_module": "@jupyter-widgets/controls",
          "model_module_version": "1.5.0",
          "model_name": "ProgressStyleModel",
          "state": {
            "_model_module": "@jupyter-widgets/controls",
            "_model_module_version": "1.5.0",
            "_model_name": "ProgressStyleModel",
            "_view_count": null,
            "_view_module": "@jupyter-widgets/base",
            "_view_module_version": "1.2.0",
            "_view_name": "StyleView",
            "bar_color": null,
            "description_width": ""
          }
        },
        "e9aa1a37c1404cdba6685afb8ef3f3cd": {
          "model_module": "@jupyter-widgets/controls",
          "model_module_version": "1.5.0",
          "model_name": "HTMLModel",
          "state": {
            "_dom_classes": [],
            "_model_module": "@jupyter-widgets/controls",
            "_model_module_version": "1.5.0",
            "_model_name": "HTMLModel",
            "_view_count": null,
            "_view_module": "@jupyter-widgets/controls",
            "_view_module_version": "1.5.0",
            "_view_name": "HTMLView",
            "description": "",
            "description_tooltip": null,
            "layout": "IPY_MODEL_363c3678b37b44f1bf44488818efee99",
            "placeholder": "​",
            "style": "IPY_MODEL_27423c24259940eeae6ade46b92d3538",
            "value": "Downloading: 100%"
          }
        },
        "f0f49c6231e54fc3b56b3fbbc2ba6de6": {
          "model_module": "@jupyter-widgets/controls",
          "model_module_version": "1.5.0",
          "model_name": "FloatProgressModel",
          "state": {
            "_dom_classes": [],
            "_model_module": "@jupyter-widgets/controls",
            "_model_module_version": "1.5.0",
            "_model_name": "FloatProgressModel",
            "_view_count": null,
            "_view_module": "@jupyter-widgets/controls",
            "_view_module_version": "1.5.0",
            "_view_name": "ProgressView",
            "bar_style": "success",
            "description": "",
            "description_tooltip": null,
            "layout": "IPY_MODEL_63ff3a2d5aec424b8ff9992c2a452840",
            "max": 86,
            "min": 0,
            "orientation": "horizontal",
            "style": "IPY_MODEL_36950f9b646e44bca7bb2cf2a570c95a",
            "value": 86
          }
        },
        "ff2cd007123b4bd7b72880efc7e4610c": {
          "model_module": "@jupyter-widgets/base",
          "model_module_version": "1.2.0",
          "model_name": "LayoutModel",
          "state": {
            "_model_module": "@jupyter-widgets/base",
            "_model_module_version": "1.2.0",
            "_model_name": "LayoutModel",
            "_view_count": null,
            "_view_module": "@jupyter-widgets/base",
            "_view_module_version": "1.2.0",
            "_view_name": "LayoutView",
            "align_content": null,
            "align_items": null,
            "align_self": null,
            "border": null,
            "bottom": null,
            "display": null,
            "flex": null,
            "flex_flow": null,
            "grid_area": null,
            "grid_auto_columns": null,
            "grid_auto_flow": null,
            "grid_auto_rows": null,
            "grid_column": null,
            "grid_gap": null,
            "grid_row": null,
            "grid_template_areas": null,
            "grid_template_columns": null,
            "grid_template_rows": null,
            "height": null,
            "justify_content": null,
            "justify_items": null,
            "left": null,
            "margin": null,
            "max_height": null,
            "max_width": null,
            "min_height": null,
            "min_width": null,
            "object_fit": null,
            "object_position": null,
            "order": null,
            "overflow": null,
            "overflow_x": null,
            "overflow_y": null,
            "padding": null,
            "right": null,
            "top": null,
            "visibility": null,
            "width": null
          }
        },
        "ffdda77ecd0643af8b7d3a7a60e0cc3f": {
          "model_module": "@jupyter-widgets/controls",
          "model_module_version": "1.5.0",
          "model_name": "HBoxModel",
          "state": {
            "_dom_classes": [],
            "_model_module": "@jupyter-widgets/controls",
            "_model_module_version": "1.5.0",
            "_model_name": "HBoxModel",
            "_view_count": null,
            "_view_module": "@jupyter-widgets/controls",
            "_view_module_version": "1.5.0",
            "_view_name": "HBoxView",
            "box_style": "",
            "children": [
              "IPY_MODEL_e9aa1a37c1404cdba6685afb8ef3f3cd",
              "IPY_MODEL_f0f49c6231e54fc3b56b3fbbc2ba6de6",
              "IPY_MODEL_9317d95ba3e24eec851780341f12fb8e"
            ],
            "layout": "IPY_MODEL_433c44c68d4944edb9bcc8b56c51f814"
          }
        }
      }
    }
  },
  "nbformat": 4,
  "nbformat_minor": 0
}
